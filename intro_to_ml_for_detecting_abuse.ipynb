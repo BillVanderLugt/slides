{
 "cells": [
  {
   "cell_type": "markdown",
   "metadata": {},
   "source": [
    "# Intro to Machine Learning for Detecting Abuse\n",
    "\n",
    "Dr. Victor Amin (SendGrid)  \n",
    "June 12th, 2017  \n",
    "M3AAWG 40th General Meeting, Lisbon"
   ]
  },
  {
   "cell_type": "markdown",
   "metadata": {},
   "source": [
    "This training has three main sections:  \n",
    "1. A quick intro to this coding environment.\n",
    "2. A basic primer on machine learning.\n",
    "3. A practical example of using machine learning to detect spam.  \n",
    "\n",
    "***"
   ]
  },
  {
   "cell_type": "markdown",
   "metadata": {},
   "source": [
    "# 3 Minute Intro to Python and Notebooks\n",
    "The document you are currently viewing is called a \"notebook.\" It is an interactive environment for running code."
   ]
  },
  {
   "cell_type": "code",
   "execution_count": 1,
   "metadata": {
    "collapsed": true
   },
   "outputs": [],
   "source": [
    "# This grey box is called a \"cell.\" A notebook contains many cells.\n",
    "# This cell does not do anything, it just contains these comments."
   ]
  },
  {
   "cell_type": "markdown",
   "metadata": {},
   "source": [
    "Cells can contain text in a format called [markdown](http://www.markdowntutorial.com/) (like this one, double click here to see), or they can contain code, like the cell below."
   ]
  },
  {
   "cell_type": "code",
   "execution_count": 3,
   "metadata": {
    "collapsed": false
   },
   "outputs": [
    {
     "name": "stdout",
     "output_type": "stream",
     "text": [
      "Hello OC!\n"
     ]
    }
   ],
   "source": [
    "# To run this cell and see the output of this code, press Shift+Enter.\n",
    "# If the code in the cell creates any output, it gets displayed right below the cell.\n",
    "# Change the text inside the quotes and run the cell again by pressing Shift+Enter.\n",
    "print(\"Hello OC!\")"
   ]
  },
  {
   "cell_type": "markdown",
   "metadata": {},
   "source": [
    "The code in the cells is written in a programming language called \"Python.\" If you do not know Python, that is OK for this introduction - I will describe what the code is doing in plain English so you can follow along. If you would like to learn Python, I highly recommend the free tutorial [Learn Python the Hard Way](https://learnpythonthehardway.org/book/)."
   ]
  },
  {
   "cell_type": "code",
   "execution_count": 4,
   "metadata": {
    "collapsed": true
   },
   "outputs": [],
   "source": [
    "x = 6 # This assigns the value \"6\" to the variable \"x\""
   ]
  },
  {
   "cell_type": "code",
   "execution_count": 5,
   "metadata": {
    "collapsed": false
   },
   "outputs": [
    {
     "data": {
      "text/plain": [
       "6"
      ]
     },
     "execution_count": 5,
     "metadata": {},
     "output_type": "execute_result"
    }
   ],
   "source": [
    "x # Let's look at what's assigned to variable \"x\""
   ]
  },
  {
   "cell_type": "code",
   "execution_count": 8,
   "metadata": {
    "collapsed": false
   },
   "outputs": [
    {
     "data": {
      "text/plain": [
       "11"
      ]
     },
     "execution_count": 8,
     "metadata": {},
     "output_type": "execute_result"
    }
   ],
   "source": [
    "y = x + 1 # We can assign new variables using values in existing variables.\n",
    "y # Before running this cell, predict what value \"y\" now contains."
   ]
  },
  {
   "cell_type": "markdown",
   "metadata": {},
   "source": [
    "Cells can be executed out of order. Any time you run a cell, it will use the most recent variable assignments. Try running the cell below, and then re-run the cell above. Think about what y will be."
   ]
  },
  {
   "cell_type": "code",
   "execution_count": 7,
   "metadata": {
    "collapsed": true
   },
   "outputs": [],
   "source": [
    "x = 10"
   ]
  },
  {
   "cell_type": "markdown",
   "metadata": {},
   "source": [
    "# Intro to Machine Learning\n",
    "Let's get started! Before we tackle abuse, let's learn some fundamentals."
   ]
  },
  {
   "cell_type": "markdown",
   "metadata": {},
   "source": [
    "This next cell \"imports\" some new functionality. The [pandas](http://pandas.pydata.org/) package makes it easy to work with tabular data. The [sklearn](http://scikit-learn.org/stable/) package contains many subpackages with machine learning functionality and example data."
   ]
  },
  {
   "cell_type": "code",
   "execution_count": 9,
   "metadata": {
    "collapsed": true
   },
   "outputs": [],
   "source": [
    "import pandas as pd # We rename the \"pandas\" package to \"pd\" to save typing.\n",
    "from sklearn import datasets, metrics, linear_model, neural_network, model_selection, ensemble"
   ]
  },
  {
   "cell_type": "markdown",
   "metadata": {},
   "source": [
    "We'll be visualizing data with charts, the cell below adjusts the default charting settings."
   ]
  },
  {
   "cell_type": "code",
   "execution_count": 10,
   "metadata": {
    "collapsed": false
   },
   "outputs": [],
   "source": [
    "import matplotlib # This package contains charting functionality.\n",
    "# The following command makes our plots show up in the notebook, instead of as a popup:\n",
    "%matplotlib inline\n",
    "# Finally, we can change some default settings to make charts more legible:\n",
    "matplotlib.rcParams.update(\n",
    "    {'font.size': 22, 'figure.figsize': (16, 8)} # Make font and chart larger.\n",
    ")"
   ]
  },
  {
   "cell_type": "markdown",
   "metadata": {},
   "source": [
    "Machine learning uses data to derive a relationship between inputs and outputs. A \"best fit line\" or \"trendline\" is a simple example of machine learning. You may have heard of technologies like \"neural networks\" and \"deep learning\"; those are also examples of machine learning."
   ]
  },
  {
   "cell_type": "markdown",
   "metadata": {},
   "source": [
    "To demonstrate, let's load some example data."
   ]
  },
  {
   "cell_type": "code",
   "execution_count": 11,
   "metadata": {
    "collapsed": false
   },
   "outputs": [],
   "source": [
    "boston_housing_dataset = datasets.load_boston() # Create a new variable containing the Boston dataset."
   ]
  },
  {
   "cell_type": "code",
   "execution_count": 12,
   "metadata": {
    "collapsed": false,
    "scrolled": false
   },
   "outputs": [
    {
     "name": "stdout",
     "output_type": "stream",
     "text": [
      "Boston House Prices dataset\n",
      "===========================\n",
      "\n",
      "Notes\n",
      "------\n",
      "Data Set Characteristics:  \n",
      "\n",
      "    :Number of Instances: 506 \n",
      "\n",
      "    :Number of Attributes: 13 numeric/categorical predictive\n",
      "    \n",
      "    :Median Value (attribute 14) is usually the target\n",
      "\n",
      "    :Attribute Information (in order):\n",
      "        - CRIM     per capita crime rate by town\n",
      "        - ZN       proportion of residential land zoned for lots over 25,000 sq.ft.\n",
      "        - INDUS    proportion of non-retail business acres per town\n",
      "        - CHAS     Charles River dummy variable (= 1 if tract bounds river; 0 otherwise)\n",
      "        - NOX      nitric oxides concentration (parts per 10 million)\n",
      "        - RM       average number of rooms per dwelling\n",
      "        - AGE      proportion of owner-occupied units built prior to 1940\n",
      "        - DIS      weighted distances to five Boston employment centres\n",
      "        - RAD      index of accessibility to radial highways\n",
      "        - TAX      full-value property-tax rate per $10,000\n",
      "        - PTRATIO  pupil-teacher ratio by town\n",
      "        - B        1000(Bk - 0.63)^2 where Bk is the proportion of blacks by town\n",
      "        - LSTAT    % lower status of the population\n",
      "        - MEDV     Median value of owner-occupied homes in $1000's\n",
      "\n",
      "    :Missing Attribute Values: None\n",
      "\n",
      "    :Creator: Harrison, D. and Rubinfeld, D.L.\n",
      "\n",
      "This is a copy of UCI ML housing dataset.\n",
      "http://archive.ics.uci.edu/ml/datasets/Housing\n",
      "\n",
      "\n",
      "This dataset was taken from the StatLib library which is maintained at Carnegie Mellon University.\n",
      "\n",
      "The Boston house-price data of Harrison, D. and Rubinfeld, D.L. 'Hedonic\n",
      "prices and the demand for clean air', J. Environ. Economics & Management,\n",
      "vol.5, 81-102, 1978.   Used in Belsley, Kuh & Welsch, 'Regression diagnostics\n",
      "...', Wiley, 1980.   N.B. Various transformations are used in the table on\n",
      "pages 244-261 of the latter.\n",
      "\n",
      "The Boston house-price data has been used in many machine learning papers that address regression\n",
      "problems.   \n",
      "     \n",
      "**References**\n",
      "\n",
      "   - Belsley, Kuh & Welsch, 'Regression diagnostics: Identifying Influential Data and Sources of Collinearity', Wiley, 1980. 244-261.\n",
      "   - Quinlan,R. (1993). Combining Instance-Based and Model-Based Learning. In Proceedings on the Tenth International Conference of Machine Learning, 236-243, University of Massachusetts, Amherst. Morgan Kaufmann.\n",
      "   - many more! (see http://archive.ics.uci.edu/ml/datasets/Housing)\n",
      "\n"
     ]
    }
   ],
   "source": [
    "# Let's print out a bit of background information about this dataset.\n",
    "print(boston_housing_dataset.DESCR)"
   ]
  },
  {
   "cell_type": "markdown",
   "metadata": {},
   "source": [
    "Next, lets extract the raw attribute data into a useful tabular format called a \"dataframe.\""
   ]
  },
  {
   "cell_type": "code",
   "execution_count": 13,
   "metadata": {
    "collapsed": false
   },
   "outputs": [
    {
     "data": {
      "text/html": [
       "<div>\n",
       "<table border=\"1\" class=\"dataframe\">\n",
       "  <thead>\n",
       "    <tr style=\"text-align: right;\">\n",
       "      <th></th>\n",
       "      <th>CRIM</th>\n",
       "      <th>ZN</th>\n",
       "      <th>INDUS</th>\n",
       "      <th>CHAS</th>\n",
       "      <th>NOX</th>\n",
       "      <th>RM</th>\n",
       "      <th>AGE</th>\n",
       "      <th>DIS</th>\n",
       "      <th>RAD</th>\n",
       "      <th>TAX</th>\n",
       "      <th>PTRATIO</th>\n",
       "      <th>B</th>\n",
       "      <th>LSTAT</th>\n",
       "    </tr>\n",
       "  </thead>\n",
       "  <tbody>\n",
       "    <tr>\n",
       "      <th>0</th>\n",
       "      <td>0.00632</td>\n",
       "      <td>18.0</td>\n",
       "      <td>2.31</td>\n",
       "      <td>0.0</td>\n",
       "      <td>0.538</td>\n",
       "      <td>6.575</td>\n",
       "      <td>65.2</td>\n",
       "      <td>4.0900</td>\n",
       "      <td>1.0</td>\n",
       "      <td>296.0</td>\n",
       "      <td>15.3</td>\n",
       "      <td>396.90</td>\n",
       "      <td>4.98</td>\n",
       "    </tr>\n",
       "    <tr>\n",
       "      <th>1</th>\n",
       "      <td>0.02731</td>\n",
       "      <td>0.0</td>\n",
       "      <td>7.07</td>\n",
       "      <td>0.0</td>\n",
       "      <td>0.469</td>\n",
       "      <td>6.421</td>\n",
       "      <td>78.9</td>\n",
       "      <td>4.9671</td>\n",
       "      <td>2.0</td>\n",
       "      <td>242.0</td>\n",
       "      <td>17.8</td>\n",
       "      <td>396.90</td>\n",
       "      <td>9.14</td>\n",
       "    </tr>\n",
       "    <tr>\n",
       "      <th>2</th>\n",
       "      <td>0.02729</td>\n",
       "      <td>0.0</td>\n",
       "      <td>7.07</td>\n",
       "      <td>0.0</td>\n",
       "      <td>0.469</td>\n",
       "      <td>7.185</td>\n",
       "      <td>61.1</td>\n",
       "      <td>4.9671</td>\n",
       "      <td>2.0</td>\n",
       "      <td>242.0</td>\n",
       "      <td>17.8</td>\n",
       "      <td>392.83</td>\n",
       "      <td>4.03</td>\n",
       "    </tr>\n",
       "    <tr>\n",
       "      <th>3</th>\n",
       "      <td>0.03237</td>\n",
       "      <td>0.0</td>\n",
       "      <td>2.18</td>\n",
       "      <td>0.0</td>\n",
       "      <td>0.458</td>\n",
       "      <td>6.998</td>\n",
       "      <td>45.8</td>\n",
       "      <td>6.0622</td>\n",
       "      <td>3.0</td>\n",
       "      <td>222.0</td>\n",
       "      <td>18.7</td>\n",
       "      <td>394.63</td>\n",
       "      <td>2.94</td>\n",
       "    </tr>\n",
       "    <tr>\n",
       "      <th>4</th>\n",
       "      <td>0.06905</td>\n",
       "      <td>0.0</td>\n",
       "      <td>2.18</td>\n",
       "      <td>0.0</td>\n",
       "      <td>0.458</td>\n",
       "      <td>7.147</td>\n",
       "      <td>54.2</td>\n",
       "      <td>6.0622</td>\n",
       "      <td>3.0</td>\n",
       "      <td>222.0</td>\n",
       "      <td>18.7</td>\n",
       "      <td>396.90</td>\n",
       "      <td>5.33</td>\n",
       "    </tr>\n",
       "  </tbody>\n",
       "</table>\n",
       "</div>"
      ],
      "text/plain": [
       "      CRIM    ZN  INDUS  CHAS    NOX     RM   AGE     DIS  RAD    TAX  \\\n",
       "0  0.00632  18.0   2.31   0.0  0.538  6.575  65.2  4.0900  1.0  296.0   \n",
       "1  0.02731   0.0   7.07   0.0  0.469  6.421  78.9  4.9671  2.0  242.0   \n",
       "2  0.02729   0.0   7.07   0.0  0.469  7.185  61.1  4.9671  2.0  242.0   \n",
       "3  0.03237   0.0   2.18   0.0  0.458  6.998  45.8  6.0622  3.0  222.0   \n",
       "4  0.06905   0.0   2.18   0.0  0.458  7.147  54.2  6.0622  3.0  222.0   \n",
       "\n",
       "   PTRATIO       B  LSTAT  \n",
       "0     15.3  396.90   4.98  \n",
       "1     17.8  396.90   9.14  \n",
       "2     17.8  392.83   4.03  \n",
       "3     18.7  394.63   2.94  \n",
       "4     18.7  396.90   5.33  "
      ]
     },
     "execution_count": 13,
     "metadata": {},
     "output_type": "execute_result"
    }
   ],
   "source": [
    "boston_housing_df = pd.DataFrame(\n",
    "    boston_housing_dataset.data, # Pass in the raw data.\n",
    "    columns=boston_housing_dataset.feature_names # Label the columns.\n",
    ")\n",
    "boston_housing_df.head() # The \"head\" method prints out just the first few rows of a dataframe."
   ]
  },
  {
   "cell_type": "markdown",
   "metadata": {},
   "source": [
    "The \"target\" or \"label\" in this dataset (the value we're trying to predict) is the median house price in thousands of dollars. Let's add that data to our dataframe."
   ]
  },
  {
   "cell_type": "code",
   "execution_count": 14,
   "metadata": {
    "collapsed": true
   },
   "outputs": [],
   "source": [
    "boston_housing_df['PRICE_IN_THOUSANDS'] = boston_housing_dataset.target # Create a new column."
   ]
  },
  {
   "cell_type": "code",
   "execution_count": 15,
   "metadata": {
    "collapsed": false
   },
   "outputs": [
    {
     "data": {
      "text/html": [
       "<div>\n",
       "<table border=\"1\" class=\"dataframe\">\n",
       "  <thead>\n",
       "    <tr style=\"text-align: right;\">\n",
       "      <th></th>\n",
       "      <th>CRIM</th>\n",
       "      <th>ZN</th>\n",
       "      <th>INDUS</th>\n",
       "      <th>CHAS</th>\n",
       "      <th>NOX</th>\n",
       "      <th>RM</th>\n",
       "      <th>AGE</th>\n",
       "      <th>DIS</th>\n",
       "      <th>RAD</th>\n",
       "      <th>TAX</th>\n",
       "      <th>PTRATIO</th>\n",
       "      <th>B</th>\n",
       "      <th>LSTAT</th>\n",
       "      <th>PRICE_IN_THOUSANDS</th>\n",
       "    </tr>\n",
       "  </thead>\n",
       "  <tbody>\n",
       "    <tr>\n",
       "      <th>0</th>\n",
       "      <td>0.00632</td>\n",
       "      <td>18.0</td>\n",
       "      <td>2.31</td>\n",
       "      <td>0.0</td>\n",
       "      <td>0.538</td>\n",
       "      <td>6.575</td>\n",
       "      <td>65.2</td>\n",
       "      <td>4.0900</td>\n",
       "      <td>1.0</td>\n",
       "      <td>296.0</td>\n",
       "      <td>15.3</td>\n",
       "      <td>396.90</td>\n",
       "      <td>4.98</td>\n",
       "      <td>24.0</td>\n",
       "    </tr>\n",
       "    <tr>\n",
       "      <th>1</th>\n",
       "      <td>0.02731</td>\n",
       "      <td>0.0</td>\n",
       "      <td>7.07</td>\n",
       "      <td>0.0</td>\n",
       "      <td>0.469</td>\n",
       "      <td>6.421</td>\n",
       "      <td>78.9</td>\n",
       "      <td>4.9671</td>\n",
       "      <td>2.0</td>\n",
       "      <td>242.0</td>\n",
       "      <td>17.8</td>\n",
       "      <td>396.90</td>\n",
       "      <td>9.14</td>\n",
       "      <td>21.6</td>\n",
       "    </tr>\n",
       "    <tr>\n",
       "      <th>2</th>\n",
       "      <td>0.02729</td>\n",
       "      <td>0.0</td>\n",
       "      <td>7.07</td>\n",
       "      <td>0.0</td>\n",
       "      <td>0.469</td>\n",
       "      <td>7.185</td>\n",
       "      <td>61.1</td>\n",
       "      <td>4.9671</td>\n",
       "      <td>2.0</td>\n",
       "      <td>242.0</td>\n",
       "      <td>17.8</td>\n",
       "      <td>392.83</td>\n",
       "      <td>4.03</td>\n",
       "      <td>34.7</td>\n",
       "    </tr>\n",
       "    <tr>\n",
       "      <th>3</th>\n",
       "      <td>0.03237</td>\n",
       "      <td>0.0</td>\n",
       "      <td>2.18</td>\n",
       "      <td>0.0</td>\n",
       "      <td>0.458</td>\n",
       "      <td>6.998</td>\n",
       "      <td>45.8</td>\n",
       "      <td>6.0622</td>\n",
       "      <td>3.0</td>\n",
       "      <td>222.0</td>\n",
       "      <td>18.7</td>\n",
       "      <td>394.63</td>\n",
       "      <td>2.94</td>\n",
       "      <td>33.4</td>\n",
       "    </tr>\n",
       "    <tr>\n",
       "      <th>4</th>\n",
       "      <td>0.06905</td>\n",
       "      <td>0.0</td>\n",
       "      <td>2.18</td>\n",
       "      <td>0.0</td>\n",
       "      <td>0.458</td>\n",
       "      <td>7.147</td>\n",
       "      <td>54.2</td>\n",
       "      <td>6.0622</td>\n",
       "      <td>3.0</td>\n",
       "      <td>222.0</td>\n",
       "      <td>18.7</td>\n",
       "      <td>396.90</td>\n",
       "      <td>5.33</td>\n",
       "      <td>36.2</td>\n",
       "    </tr>\n",
       "  </tbody>\n",
       "</table>\n",
       "</div>"
      ],
      "text/plain": [
       "      CRIM    ZN  INDUS  CHAS    NOX     RM   AGE     DIS  RAD    TAX  \\\n",
       "0  0.00632  18.0   2.31   0.0  0.538  6.575  65.2  4.0900  1.0  296.0   \n",
       "1  0.02731   0.0   7.07   0.0  0.469  6.421  78.9  4.9671  2.0  242.0   \n",
       "2  0.02729   0.0   7.07   0.0  0.469  7.185  61.1  4.9671  2.0  242.0   \n",
       "3  0.03237   0.0   2.18   0.0  0.458  6.998  45.8  6.0622  3.0  222.0   \n",
       "4  0.06905   0.0   2.18   0.0  0.458  7.147  54.2  6.0622  3.0  222.0   \n",
       "\n",
       "   PTRATIO       B  LSTAT  PRICE_IN_THOUSANDS  \n",
       "0     15.3  396.90   4.98                24.0  \n",
       "1     17.8  396.90   9.14                21.6  \n",
       "2     17.8  392.83   4.03                34.7  \n",
       "3     18.7  394.63   2.94                33.4  \n",
       "4     18.7  396.90   5.33                36.2  "
      ]
     },
     "execution_count": 15,
     "metadata": {},
     "output_type": "execute_result"
    }
   ],
   "source": [
    "boston_housing_df.head() # Let's preview the table again to see the new column."
   ]
  },
  {
   "cell_type": "code",
   "execution_count": 16,
   "metadata": {
    "collapsed": false
   },
   "outputs": [
    {
     "data": {
      "text/plain": [
       "506"
      ]
     },
     "execution_count": 16,
     "metadata": {},
     "output_type": "execute_result"
    }
   ],
   "source": [
    "len(boston_housing_df) # How many rows (i.e. what is the length of the table)?"
   ]
  },
  {
   "cell_type": "markdown",
   "metadata": {},
   "source": [
    "Now, we're ready to build our first model! Let's start with something simple: a trendline."
   ]
  },
  {
   "cell_type": "markdown",
   "metadata": {},
   "source": [
    "We have lots of attributes to choose from, but let's focus on just one for now. It looks like the \"RM\" attribute (the average number of rooms per dwelling) correlates with median price:"
   ]
  },
  {
   "cell_type": "code",
   "execution_count": 17,
   "metadata": {
    "collapsed": false
   },
   "outputs": [
    {
     "data": {
      "image/png": "[encoded data removed]",
      "text/plain": [
       "<matplotlib.figure.Figure at 0x7fe736e85f28>"
      ]
     },
     "metadata": {},
     "output_type": "display_data"
    }
   ],
   "source": [
    "ax = boston_housing_df.plot.scatter('RM', 'PRICE_IN_THOUSANDS') # Plot 'PRICE_IN_THOUSANDS' vs 'RM'."
   ]
  },
  {
   "cell_type": "markdown",
   "metadata": {},
   "source": [
    "We'll use an algorithm called \"Linear Regression\" to fit a trendline to this data."
   ]
  },
  {
   "cell_type": "code",
   "execution_count": 18,
   "metadata": {
    "collapsed": false
   },
   "outputs": [
    {
     "name": "stdout",
     "output_type": "stream",
     "text": [
      "y = 9.10x + (-34.67)\n"
     ]
    }
   ],
   "source": [
    "trendline = linear_model.LinearRegression() # \"Linear Regression\" is an algorithm for fitting to linear data.\n",
    "\n",
    "trendline.fit(\n",
    "    boston_housing_df['RM'].to_frame(), # To fit a line, you need the input (or \"x\" variable)...\n",
    "    boston_housing_df['PRICE_IN_THOUSANDS'] # ...and the output (or \"y\" variable).\n",
    ")\n",
    "\n",
    "slope = trendline.coef_[0] # Now that we've fit the data, we get a slope...\n",
    "intercept = trendline.intercept_ # ...and a y-intercept.\n",
    "\n",
    "print('y = %.2fx + (%.2f)' % (slope, intercept)) # This will print out the equation for our line."
   ]
  },
  {
   "cell_type": "markdown",
   "metadata": {},
   "source": [
    "Now we can plot our trendline onto the scatterplot:"
   ]
  },
  {
   "cell_type": "code",
   "execution_count": 19,
   "metadata": {
    "collapsed": false
   },
   "outputs": [
    {
     "data": {
      "image/png": "[encoded data removed]",
      "text/plain": [
       "<matplotlib.figure.Figure at 0x7fe6eb0bbc18>"
      ]
     },
     "metadata": {},
     "output_type": "display_data"
    }
   ],
   "source": [
    "# First, plot the individual data points in a scatter plot.\n",
    "ax = boston_housing_df.plot.scatter(\n",
    "    'RM', # Our \"x\" variable.\n",
    "    'PRICE_IN_THOUSANDS' # Our \"y\" variable.\n",
    ")\n",
    "\n",
    "# Now, plot our trendline using the equation we fit.\n",
    "_ = ax.plot(\n",
    "    boston_housing_df['RM'], # Our \"x\" data.\n",
    "    slope*boston_housing_df['RM']+intercept, # Use our slope and intercept to calculate our \"y\".\n",
    "    color='orange' # Let's make the line orange so it stands out.\n",
    ")"
   ]
  },
  {
   "cell_type": "markdown",
   "metadata": {
    "collapsed": true
   },
   "source": [
    "Vocab time!\n",
    "\n",
    "The orange line is a *MODEL*. The data we used to fit the line is the *TRAINING SET*, and each individual data point is a *SAMPLE*. RM (the average number of rooms per dwelling) is an *ATTRIBUTE* or *FEATURE*. PRICE_IN_THOUSANDS is the *TARGET* or *LABEL*. A model can utilize many features, but generally only has one target or label."
   ]
  },
  {
   "cell_type": "markdown",
   "metadata": {},
   "source": [
    "A model is a succinct mathematical description of a system. We can use models to predict what will happen in a new situation. The model we just created says that median home prices are driven entirely by average rooms per dwelling, and that when the rooms per dwelling increases by 1, median house prices in the area increase by $9,100."
   ]
  },
  {
   "cell_type": "markdown",
   "metadata": {
    "collapsed": true
   },
   "source": [
    "We can use our model to predict average prices in a neighborhood with a certain number of rooms:"
   ]
  },
  {
   "cell_type": "code",
   "execution_count": 20,
   "metadata": {
    "collapsed": false
   },
   "outputs": [
    {
     "name": "stdout",
     "output_type": "stream",
     "text": [
      "The average house price in thousands will be: $29.04\n"
     ]
    }
   ],
   "source": [
    "# What if we find a new neighborhood and the average number of rooms is 8?\n",
    "RM = 7\n",
    "prediction = slope*RM + intercept\n",
    "print('The average house price in thousands will be: $%.2f' % prediction)"
   ]
  },
  {
   "cell_type": "markdown",
   "metadata": {
    "collapsed": true
   },
   "source": [
    "Intuitively, we know that this model isn't perfect. There's a lot more to home prices than the number of rooms. Plus, we can see from the chart that there are many points far from the line."
   ]
  },
  {
   "cell_type": "markdown",
   "metadata": {},
   "source": [
    "Let's quantify how good this model is. There are many ways to measure model performance, and the best way will depend on the particular problem you are trying to solve, and what your success criteria are. For this model, we're going to use a metric called \"mean absolute error.\" It is the average distance of each point from the trendline. If every point was exactly on the trendline, that would make the mean absolute error 0."
   ]
  },
  {
   "cell_type": "code",
   "execution_count": 21,
   "metadata": {
    "collapsed": false
   },
   "outputs": [
    {
     "name": "stdout",
     "output_type": "stream",
     "text": [
      "Mean Absolute Error: 4.45\n"
     ]
    }
   ],
   "source": [
    "predicted_price = trendline.predict( # For each data point, what does our model think the average price will be?\n",
    "    boston_housing_df['RM'].to_frame()\n",
    ")\n",
    "mae = metrics.mean_absolute_error(\n",
    "    boston_housing_df['PRICE_IN_THOUSANDS'], # To calculate the error, we compare the true value...\n",
    "    predicted_price # ...to the predicted value.\n",
    ")\n",
    "print('Mean Absolute Error: %.2f' % mae)"
   ]
  },
  {
   "cell_type": "markdown",
   "metadata": {},
   "source": [
    "However, the way we just measured performance is not fair. Measuring performance this way only tells you how well the model does on data it's seen before. However, models almost always perform worse on new data. In other words, we need to test with data that wasn't in the training set."
   ]
  },
  {
   "cell_type": "markdown",
   "metadata": {
    "collapsed": true
   },
   "source": [
    "We don't have any other data available, but what we can do is randomly split the data we do have into a separate \"training\" and \"testing\" datasets:"
   ]
  },
  {
   "cell_type": "code",
   "execution_count": 22,
   "metadata": {
    "collapsed": false
   },
   "outputs": [
    {
     "name": "stdout",
     "output_type": "stream",
     "text": [
      "Train Samples: 339\n",
      "Test Samples: 167\n"
     ]
    }
   ],
   "source": [
    "boston_TRAIN_df, boston_TEST_df = model_selection.train_test_split(\n",
    "    boston_housing_df,\n",
    "    test_size=0.33 # Use ~1/3 of the data for our test set.\n",
    ")\n",
    "print('Train Samples: %s\\nTest Samples: %s' % (len(boston_TRAIN_df), len(boston_TEST_df)))"
   ]
  },
  {
   "cell_type": "markdown",
   "metadata": {},
   "source": [
    "Now, we train a new trendline using just the data reserved for training:"
   ]
  },
  {
   "cell_type": "code",
   "execution_count": 23,
   "metadata": {
    "collapsed": false
   },
   "outputs": [
    {
     "name": "stdout",
     "output_type": "stream",
     "text": [
      "y = 8.60x + (-31.69)\n"
     ]
    }
   ],
   "source": [
    "# Fit our model to TRAINING DATA ONLY\n",
    "trendline_split = linear_model.LinearRegression()\n",
    "trendline_split.fit(\n",
    "    boston_TRAIN_df['RM'].to_frame(), # Our features, just the training samples.\n",
    "    boston_TRAIN_df['PRICE_IN_THOUSANDS']) # Our labels, just the training samples.\n",
    "\n",
    "# Get our slop and intercept\n",
    "slope_train = trendline_split.coef_[0]\n",
    "intercept_train = trendline_split.intercept_\n",
    "\n",
    "# Print equation\n",
    "print('y = %.2fx + (%.2f)' % (slope_train, intercept_train))"
   ]
  },
  {
   "cell_type": "markdown",
   "metadata": {},
   "source": [
    "Notice that the model is now slightly different. Originally, it was `y = 9.10x + (-34.67)`. Let's plot both models together on the same chart:"
   ]
  },
  {
   "cell_type": "code",
   "execution_count": 24,
   "metadata": {
    "collapsed": false
   },
   "outputs": [
    {
     "data": {
      "image/png": "[encoded data removed]",
      "text/plain": [
       "<matplotlib.figure.Figure at 0x7fe6eb348400>"
      ]
     },
     "metadata": {},
     "output_type": "display_data"
    }
   ],
   "source": [
    "# Note: the way plotting works in matplotlib allows you to \"stack\" multiple charts.\n",
    "# That's how we're getting all of the data into one chart.\n",
    "ax = boston_housing_df.plot.scatter('RM', 'PRICE_IN_THOUSANDS') # Scatterplot.\n",
    "boston_TRAIN_df.plot.scatter( # Highlight training data in light blue.\n",
    "    'RM',\n",
    "    'PRICE_IN_THOUSANDS',\n",
    "    color='lightblue',\n",
    "    s=1,\n",
    "    ax=ax\n",
    ")\n",
    "_ = ax.plot( # Line plot, original model, in orange.\n",
    "    boston_housing_df['RM'],\n",
    "    slope*boston_housing_df['RM']+intercept,\n",
    "    color='orange'\n",
    ")\n",
    "_ = ax.plot( # Line plot, training set only model, in teal.\n",
    "    boston_housing_df['RM'],\n",
    "    slope_train*boston_housing_df['RM']+intercept_train,\n",
    "    color='teal'\n",
    ")"
   ]
  },
  {
   "cell_type": "markdown",
   "metadata": {},
   "source": [
    "Now, let's calculate our error on the training set and the test set. The test set error is *almost always* greater than the training set error, and it's a much better indicator of how well your model might perform \"in the wild.\""
   ]
  },
  {
   "cell_type": "code",
   "execution_count": 25,
   "metadata": {
    "collapsed": false
   },
   "outputs": [
    {
     "name": "stdout",
     "output_type": "stream",
     "text": [
      "Train Error: 4.49\n",
      "Test Error: 4.46\n"
     ]
    }
   ],
   "source": [
    "# Predict prices for train and test data\n",
    "predicted_price_train = trendline_split.predict(boston_TRAIN_df['RM'].to_frame())\n",
    "predicted_price_test = trendline_split.predict(boston_TEST_df['RM'].to_frame())\n",
    "\n",
    "# Calculate MAE for train and test data\n",
    "mae_train = metrics.mean_absolute_error(\n",
    "    boston_TRAIN_df['PRICE_IN_THOUSANDS'], # True answer, training data only.\n",
    "    predicted_price_train # Predicted answer, training data only.\n",
    ")\n",
    "mae_test = metrics.mean_absolute_error(\n",
    "    boston_TEST_df['PRICE_IN_THOUSANDS'], # True answer, test data only.\n",
    "    predicted_price_test # Predicted answer, test data only.\n",
    ")\n",
    "\n",
    "# Print results\n",
    "print('Train Error: %.2f' % mae_train)\n",
    "print('Test Error: %.2f' % mae_test)"
   ]
  },
  {
   "cell_type": "markdown",
   "metadata": {},
   "source": [
    "These error numbers will change every time you run the notebook because the the split between training data and testing data is random!  \n",
    "\n",
    "You may notice that the test error and train error are close, or even that the test error is lower than the test error. This is sometimes the case with *very* simple models, but generally for complex models the test error is always greater."
   ]
  },
  {
   "cell_type": "markdown",
   "metadata": {
    "collapsed": true
   },
   "source": [
    "Most things you'd want to predict have more than one driver. We focused on one particular driver of neigborhood home prices, the average number of rooms, but we can build a better model by using all the data we have available:"
   ]
  },
  {
   "cell_type": "code",
   "execution_count": 26,
   "metadata": {
    "collapsed": false
   },
   "outputs": [
    {
     "data": {
      "text/plain": [
       "LinearRegression(copy_X=True, fit_intercept=True, n_jobs=1, normalize=False)"
      ]
     },
     "execution_count": 26,
     "metadata": {},
     "output_type": "execute_result"
    }
   ],
   "source": [
    "# Fit a regression model with multiple features\n",
    "multiple_regression = linear_model.LinearRegression()\n",
    "multiple_regression.fit(\n",
    "    X=boston_TRAIN_df[['CRIM', 'ZN', 'INDUS', 'CHAS', 'NOX', 'RM', 'AGE', 'DIS', 'RAD', 'TAX',\n",
    "       'PTRATIO', 'B', 'LSTAT']], # All the features! Don't forget, use separate training data.\n",
    "    y=boston_TRAIN_df['PRICE_IN_THOUSANDS'] # We're still trying to predict prices.\n",
    ")"
   ]
  },
  {
   "cell_type": "code",
   "execution_count": 27,
   "metadata": {
    "collapsed": false
   },
   "outputs": [
    {
     "name": "stdout",
     "output_type": "stream",
     "text": [
      "Train Mean Absolute Error: 3.20\n",
      "Test Mean Absolute Error: 3.47\n"
     ]
    }
   ],
   "source": [
    "# Predict prices on train and test data.\n",
    "predicted_price_multi_train = multiple_regression.predict(\n",
    "    boston_TRAIN_df[['CRIM', 'ZN', 'INDUS', 'CHAS', 'NOX', 'RM', 'AGE', 'DIS', 'RAD', 'TAX',\n",
    "       'PTRATIO', 'B', 'LSTAT']] # Test with our held-out test data.\n",
    ")\n",
    "predicted_price_multi_test = multiple_regression.predict(\n",
    "    boston_TEST_df[['CRIM', 'ZN', 'INDUS', 'CHAS', 'NOX', 'RM', 'AGE', 'DIS', 'RAD', 'TAX',\n",
    "       'PTRATIO', 'B', 'LSTAT']] # Test with our held-out test data.\n",
    ")\n",
    "\n",
    "# Calculate MAE on train and test data\n",
    "mae_multi_train = metrics.mean_absolute_error(\n",
    "    boston_TRAIN_df['PRICE_IN_THOUSANDS'], # True output.\n",
    "    predicted_price_multi_train # Predicted output\n",
    ")\n",
    "mae_multi_test = metrics.mean_absolute_error(\n",
    "    boston_TEST_df['PRICE_IN_THOUSANDS'], # True output.\n",
    "    predicted_price_multi_test # Predicted output\n",
    ")\n",
    "\n",
    "print('Train Mean Absolute Error: %.2f' % mae_multi_train)\n",
    "print('Test Mean Absolute Error: %.2f' % mae_multi_test)"
   ]
  },
  {
   "cell_type": "markdown",
   "metadata": {},
   "source": [
    "And, just for fun, we can solve the same problem with a neural network:"
   ]
  },
  {
   "cell_type": "code",
   "execution_count": 28,
   "metadata": {
    "collapsed": false
   },
   "outputs": [
    {
     "data": {
      "text/plain": [
       "MLPRegressor(activation='identity', alpha=0.5, batch_size='auto', beta_1=0.9,\n",
       "       beta_2=0.999, early_stopping=True, epsilon=1e-08,\n",
       "       hidden_layer_sizes=(10, 2), learning_rate='adaptive',\n",
       "       learning_rate_init=0.001, max_iter=1000, momentum=0.9,\n",
       "       nesterovs_momentum=True, power_t=0.5, random_state=None,\n",
       "       shuffle=True, solver='lbfgs', tol=0.0001, validation_fraction=0.1,\n",
       "       verbose=False, warm_start=False)"
      ]
     },
     "execution_count": 28,
     "metadata": {},
     "output_type": "execute_result"
    }
   ],
   "source": [
    "# Train a neural network\n",
    "neural_regression = neural_network.MLPRegressor(\n",
    "    hidden_layer_sizes=(10,2),\n",
    "    early_stopping=True,\n",
    "    activation='identity',\n",
    "    solver='lbfgs',\n",
    "    alpha=.5,\n",
    "    max_iter=1000,\n",
    "    learning_rate='adaptive'\n",
    ")\n",
    "neural_regression.fit(\n",
    "    X=boston_TRAIN_df[['CRIM', 'ZN', 'INDUS', 'CHAS', 'NOX', 'RM', 'AGE', 'DIS', 'RAD', 'TAX',\n",
    "       'PTRATIO', 'B', 'LSTAT']],\n",
    "    y=boston_TRAIN_df['PRICE_IN_THOUSANDS']\n",
    ")"
   ]
  },
  {
   "cell_type": "code",
   "execution_count": 29,
   "metadata": {
    "collapsed": false
   },
   "outputs": [
    {
     "name": "stdout",
     "output_type": "stream",
     "text": [
      "Train Mean Absolute Error: 3.27\n",
      "Test Mean Absolute Error: 3.30\n"
     ]
    }
   ],
   "source": [
    "# Predict prices using neural network on train and test data\n",
    "predicted_price_neural_train = neural_regression.predict(\n",
    "    boston_TRAIN_df[['CRIM', 'ZN', 'INDUS', 'CHAS', 'NOX', 'RM', 'AGE', 'DIS', 'RAD', 'TAX',\n",
    "       'PTRATIO', 'B', 'LSTAT']]\n",
    ")\n",
    "predicted_price_neural_test = neural_regression.predict(\n",
    "    boston_TEST_df[['CRIM', 'ZN', 'INDUS', 'CHAS', 'NOX', 'RM', 'AGE', 'DIS', 'RAD', 'TAX',\n",
    "       'PTRATIO', 'B', 'LSTAT']]\n",
    ")\n",
    "\n",
    "# Calcualte MAE for train and test data\n",
    "mae_neural_train = metrics.mean_absolute_error(\n",
    "    boston_TRAIN_df['PRICE_IN_THOUSANDS'],\n",
    "    predicted_price_neural_train\n",
    ")\n",
    "mae_neural_test = metrics.mean_absolute_error(\n",
    "    boston_TEST_df['PRICE_IN_THOUSANDS'],\n",
    "    predicted_price_neural_test\n",
    ")\n",
    "\n",
    "# Print error\n",
    "print('Train Mean Absolute Error: %.2f' % mae_neural_train)\n",
    "print('Test Mean Absolute Error: %.2f' % mae_neural_test)"
   ]
  },
  {
   "cell_type": "markdown",
   "metadata": {
    "collapsed": true
   },
   "source": [
    "There are dozens of algorithms available in scikit-learn, each with its own strengths and weaknesses: http://scikit-learn.org/stable/supervised_learning.html. The best algorithm will depend on your problem. It's generally a good idea to try a variety of different algorithms to see what works best."
   ]
  },
  {
   "cell_type": "markdown",
   "metadata": {},
   "source": [
    "# Let's Tackle Abuse\n",
    "Now that we've learned some machine learning basics, let's try building a model to detect spam subject lines."
   ]
  },
  {
   "cell_type": "markdown",
   "metadata": {},
   "source": [
    "## Gather packages and data"
   ]
  },
  {
   "cell_type": "code",
   "execution_count": 30,
   "metadata": {
    "collapsed": true
   },
   "outputs": [],
   "source": [
    "# We already did this, but if you're skipping ahead it's convenient to have the imports here.\n",
    "import pandas as pd # We rename the \"pandas\" package to \"pd\" to save typing.\n",
    "from sklearn import datasets, metrics, linear_model, neural_network, model_selection, ensemble\n",
    "\n",
    "import matplotlib # This package contains charting functionality.\n",
    "# The following command makes our plots show up in the notebook, instead of as a popup:\n",
    "%matplotlib inline\n",
    "# Finally, we can change some default settings to make charts more legible:\n",
    "matplotlib.rcParams.update(\n",
    "    {'font.size': 22, 'figure.figsize': (16, 8)} # Make font and chart larger.\n",
    ")"
   ]
  },
  {
   "cell_type": "code",
   "execution_count": 31,
   "metadata": {
    "collapsed": false
   },
   "outputs": [],
   "source": [
    "# FOLLOW THESE 3 STEPS TO IMPORT TRAINING DATA:\n",
    "# 1. Download the file \"trec05p-1_subj_from.csv\" from:\n",
    "#               https://goo.gl/7hqbjA [Google Drive, 9MB]\n",
    "# 2. In the notebook interface, go to the \"Data\" menu and select \"Upload...\" to upload the file you just downloaded.\n",
    "# 3. Run this cell.\n",
    "# Unfortunately, you will need to follow these steps each time you open the notebook.\n",
    "\n",
    "# The data was derived from the 2005 TREC Public Spam Corpus\n",
    "# http://plg.uwaterloo.ca/~gvcormac/treccorpus/\n",
    "trec_subjects_df = pd.read_csv(\n",
    "    '/home/nbuser/trec05p-1_subj_from.csv', # This is where the file goes when you upload.\n",
    "    usecols=['label', 'subject'] # We only need these two columns (there is a \"from\" column, but we won't be using it today).\n",
    ").dropna() # This last part removes rows that have missing data."
   ]
  },
  {
   "cell_type": "markdown",
   "metadata": {},
   "source": [
    "*(If you just got a \"FileNotFoundError\", follow the steps in the cell above to import the file into the notebook, then run the cell again.)*"
   ]
  },
  {
   "cell_type": "markdown",
   "metadata": {},
   "source": [
    "## Explore the data\n",
    "Before we get to machine learning, it's a good idea to explore the data."
   ]
  },
  {
   "cell_type": "code",
   "execution_count": 32,
   "metadata": {
    "collapsed": false
   },
   "outputs": [
    {
     "data": {
      "text/html": [
       "<div>\n",
       "<table border=\"1\" class=\"dataframe\">\n",
       "  <thead>\n",
       "    <tr style=\"text-align: right;\">\n",
       "      <th></th>\n",
       "      <th>label</th>\n",
       "      <th>subject</th>\n",
       "    </tr>\n",
       "  </thead>\n",
       "  <tbody>\n",
       "    <tr>\n",
       "      <th>0</th>\n",
       "      <td>ham</td>\n",
       "      <td>FW: June 29 -- BNA, Inc. Daily Labor Report</td>\n",
       "    </tr>\n",
       "    <tr>\n",
       "      <th>1</th>\n",
       "      <td>ham</td>\n",
       "      <td>NGX failover plan.</td>\n",
       "    </tr>\n",
       "    <tr>\n",
       "      <th>2</th>\n",
       "      <td>ham</td>\n",
       "      <td>RE: Intranet Site</td>\n",
       "    </tr>\n",
       "    <tr>\n",
       "      <th>3</th>\n",
       "      <td>ham</td>\n",
       "      <td>FW: ENA Upstream Company information</td>\n",
       "    </tr>\n",
       "    <tr>\n",
       "      <th>4</th>\n",
       "      <td>ham</td>\n",
       "      <td>New Master Physical</td>\n",
       "    </tr>\n",
       "  </tbody>\n",
       "</table>\n",
       "</div>"
      ],
      "text/plain": [
       "  label                                      subject\n",
       "0   ham  FW: June 29 -- BNA, Inc. Daily Labor Report\n",
       "1   ham                           NGX failover plan.\n",
       "2   ham                            RE: Intranet Site\n",
       "3   ham         FW: ENA Upstream Company information\n",
       "4   ham                          New Master Physical"
      ]
     },
     "execution_count": 32,
     "metadata": {},
     "output_type": "execute_result"
    }
   ],
   "source": [
    "trec_subjects_df.head() # Let's look at the first few rows to get a feel for the data."
   ]
  },
  {
   "cell_type": "code",
   "execution_count": 33,
   "metadata": {
    "collapsed": false
   },
   "outputs": [
    {
     "data": {
      "text/plain": [
       "88491"
      ]
     },
     "execution_count": 33,
     "metadata": {},
     "output_type": "execute_result"
    }
   ],
   "source": [
    "len(trec_subjects_df) # How many data points do we have?"
   ]
  },
  {
   "cell_type": "markdown",
   "metadata": {},
   "source": [
    "What's different about this data compared to the housing data?"
   ]
  },
  {
   "cell_type": "code",
   "execution_count": 34,
   "metadata": {
    "collapsed": false
   },
   "outputs": [
    {
     "data": {
      "text/plain": [
       "spam    51325\n",
       "ham     37166\n",
       "Name: label, dtype: int64"
      ]
     },
     "execution_count": 34,
     "metadata": {},
     "output_type": "execute_result"
    }
   ],
   "source": [
    "# How many of each label do we have? Close to equal numbers is good.\n",
    "trec_subjects_df['label'].value_counts() # The \"value_counts\" method tallies how often each value appears."
   ]
  },
  {
   "cell_type": "code",
   "execution_count": 35,
   "metadata": {
    "collapsed": false
   },
   "outputs": [
    {
     "data": {
      "text/html": [
       "<div>\n",
       "<table border=\"1\" class=\"dataframe\">\n",
       "  <thead>\n",
       "    <tr style=\"text-align: right;\">\n",
       "      <th></th>\n",
       "      <th>label</th>\n",
       "      <th>subject</th>\n",
       "    </tr>\n",
       "  </thead>\n",
       "  <tbody>\n",
       "    <tr>\n",
       "      <th>78536</th>\n",
       "      <td>spam</td>\n",
       "      <td>Software News</td>\n",
       "    </tr>\n",
       "    <tr>\n",
       "      <th>2767</th>\n",
       "      <td>spam</td>\n",
       "      <td>Market Movers and Shakers</td>\n",
       "    </tr>\n",
       "    <tr>\n",
       "      <th>66521</th>\n",
       "      <td>spam</td>\n",
       "      <td>Feeling overweight?  Get Med s to help</td>\n",
       "    </tr>\n",
       "    <tr>\n",
       "      <th>37427</th>\n",
       "      <td>spam</td>\n",
       "      <td>re:[1]Shake Flashlight - вечный фонарик!</td>\n",
       "    </tr>\n",
       "    <tr>\n",
       "      <th>64593</th>\n",
       "      <td>spam</td>\n",
       "      <td>D.M.E</td>\n",
       "    </tr>\n",
       "    <tr>\n",
       "      <th>77441</th>\n",
       "      <td>spam</td>\n",
       "      <td>can I be your friend?</td>\n",
       "    </tr>\n",
       "    <tr>\n",
       "      <th>9341</th>\n",
       "      <td>spam</td>\n",
       "      <td>Begin 2005 a new you abramson conjunct</td>\n",
       "    </tr>\n",
       "    <tr>\n",
       "      <th>21801</th>\n",
       "      <td>spam</td>\n",
       "      <td>Elloelloello :)</td>\n",
       "    </tr>\n",
       "    <tr>\n",
       "      <th>17406</th>\n",
       "      <td>spam</td>\n",
       "      <td>heyy</td>\n",
       "    </tr>\n",
       "    <tr>\n",
       "      <th>42790</th>\n",
       "      <td>spam</td>\n",
       "      <td>fwd:По поводу заказа</td>\n",
       "    </tr>\n",
       "  </tbody>\n",
       "</table>\n",
       "</div>"
      ],
      "text/plain": [
       "      label                                           subject\n",
       "78536  spam                                     Software News\n",
       "2767   spam                         Market Movers and Shakers\n",
       "66521  spam            Feeling overweight?  Get Med s to help\n",
       "37427  spam  re:[1]Shake Flashlight - вечный фонарик!        \n",
       "64593  spam                                             D.M.E\n",
       "77441  spam                             can I be your friend?\n",
       "9341   spam           Begin 2005 a new you abramson conjunct \n",
       "21801  spam                                   Elloelloello :)\n",
       "17406  spam                                              heyy\n",
       "42790  spam                             fwd:По поводу заказа "
      ]
     },
     "execution_count": 35,
     "metadata": {},
     "output_type": "execute_result"
    }
   ],
   "source": [
    "# We can also check out a random sample of spam rows...\n",
    "trec_subjects_df[trec_subjects_df['label']=='spam'].sample(10)"
   ]
  },
  {
   "cell_type": "code",
   "execution_count": 36,
   "metadata": {
    "collapsed": false
   },
   "outputs": [
    {
     "data": {
      "text/html": [
       "<div>\n",
       "<table border=\"1\" class=\"dataframe\">\n",
       "  <thead>\n",
       "    <tr style=\"text-align: right;\">\n",
       "      <th></th>\n",
       "      <th>label</th>\n",
       "      <th>subject</th>\n",
       "    </tr>\n",
       "  </thead>\n",
       "  <tbody>\n",
       "    <tr>\n",
       "      <th>23392</th>\n",
       "      <td>ham</td>\n",
       "      <td>Re: Certified ZEVs</td>\n",
       "    </tr>\n",
       "    <tr>\n",
       "      <th>31352</th>\n",
       "      <td>ham</td>\n",
       "      <td>RE: VMAC NDA</td>\n",
       "    </tr>\n",
       "    <tr>\n",
       "      <th>56412</th>\n",
       "      <td>ham</td>\n",
       "      <td>Weekend - Notes</td>\n",
       "    </tr>\n",
       "    <tr>\n",
       "      <th>31389</th>\n",
       "      <td>ham</td>\n",
       "      <td>FW: Williamette Enovative</td>\n",
       "    </tr>\n",
       "    <tr>\n",
       "      <th>19876</th>\n",
       "      <td>ham</td>\n",
       "      <td>FW: Question</td>\n",
       "    </tr>\n",
       "  </tbody>\n",
       "</table>\n",
       "</div>"
      ],
      "text/plain": [
       "      label                    subject\n",
       "23392   ham         Re: Certified ZEVs\n",
       "31352   ham               RE: VMAC NDA\n",
       "56412   ham            Weekend - Notes\n",
       "31389   ham  FW: Williamette Enovative\n",
       "19876   ham               FW: Question"
      ]
     },
     "execution_count": 36,
     "metadata": {},
     "output_type": "execute_result"
    }
   ],
   "source": [
    "# Compare to ham. What do you notice?\n",
    "trec_subjects_df[trec_subjects_df['label']=='ham'].sample(5)"
   ]
  },
  {
   "cell_type": "markdown",
   "metadata": {},
   "source": [
    "# Separate out your test set\n",
    "Any time we are learining something from the data, we will use the training set. The test set will be used for measurement and measurement only!"
   ]
  },
  {
   "cell_type": "code",
   "execution_count": 37,
   "metadata": {
    "collapsed": false
   },
   "outputs": [
    {
     "name": "stdout",
     "output_type": "stream",
     "text": [
      "Train Samples: 70792\n",
      "Test Samples: 17699\n"
     ]
    }
   ],
   "source": [
    "trec_TRAIN_df, trec_TEST_df = model_selection.train_test_split(\n",
    "    trec_subjects_df,\n",
    "    test_size=0.2 # Use 20% of the data for our test set.\n",
    ")\n",
    "\n",
    "trec_TRAIN_df = trec_TRAIN_df.copy() # Why? Pandas, by default, tries to save memory by not copying data into derived dataframes.\n",
    "trec_TEST_df = trec_TEST_df.copy()\n",
    "\n",
    "print('Train Samples: %s' % len(trec_TRAIN_df))\n",
    "print('Test Samples: %s' % len(trec_TEST_df))"
   ]
  },
  {
   "cell_type": "markdown",
   "metadata": {},
   "source": [
    "## Try some simple models to get a baseline"
   ]
  },
  {
   "cell_type": "markdown",
   "metadata": {},
   "source": [
    "There's more spam than ham here. We can beat 50% accuracy just by saying everything is spam!"
   ]
  },
  {
   "cell_type": "code",
   "execution_count": 38,
   "metadata": {
    "collapsed": false
   },
   "outputs": [
    {
     "name": "stdout",
     "output_type": "stream",
     "text": [
      "TRAIN accuracy if we call everything spam: 57.83%\n",
      "TEST accuracy if we call everything spam: 58.66%\n"
     ]
    }
   ],
   "source": [
    "always_spam_acc_train = metrics.accuracy_score(\n",
    "    trec_TRAIN_df['label'], # The actual label.\n",
    "    ['spam']*len(trec_TRAIN_df) # Spam for every row.\n",
    ")\n",
    "always_spam_acc_test = metrics.accuracy_score(\n",
    "    trec_TEST_df['label'], # The actual label.\n",
    "    ['spam']*len(trec_TEST_df) # Spam for every row.\n",
    ")\n",
    "\n",
    "print('TRAIN accuracy if we call everything spam: %.2f%%' % (always_spam_acc_train*100))\n",
    "print('TEST accuracy if we call everything spam: %.2f%%' % (always_spam_acc_test*100))"
   ]
  },
  {
   "cell_type": "markdown",
   "metadata": {},
   "source": [
    "Another simple thing we could try is identifying whether a subject line contains common spam or ham words. Let's start by analyzing the words used in spam vs ham subject lines."
   ]
  },
  {
   "cell_type": "code",
   "execution_count": 39,
   "metadata": {
    "collapsed": false
   },
   "outputs": [
    {
     "data": {
      "text/plain": [
       "60387              Schedule Crawler: HourAhead Failure\n",
       "10112                             Van Steven Dickerson\n",
       "44617    RE: EOL and Clickpaper Approvals for 11-20-01\n",
       "37406            Thanksgiving - Coming Through Houston\n",
       "28067                          Power Credit Watch List\n",
       "Name: subject, dtype: object"
      ]
     },
     "execution_count": 39,
     "metadata": {},
     "output_type": "execute_result"
    }
   ],
   "source": [
    "# We can separate our subject lines by whether they are \"spam\" or \"ham\".\n",
    "spam_subjects = trec_TRAIN_df[trec_TRAIN_df['label']=='spam']['subject']\n",
    "ham_subjects = trec_TRAIN_df[trec_TRAIN_df['label']=='ham']['subject']\n",
    "\n",
    "ham_subjects.head() # Each variable is a list subject lines."
   ]
  },
  {
   "cell_type": "code",
   "execution_count": 40,
   "metadata": {
    "collapsed": false
   },
   "outputs": [
    {
     "data": {
      "text/plain": [
       "108812                       april\n",
       "148244    shelley_corman@enron.com\n",
       "23126                         free\n",
       "7212                          card\n",
       "42261                         안되세요\n",
       "108792                    product!\n",
       "111024                        twhz\n",
       "102742                    판매!!품질보증\n",
       "144818                      zrqoyz\n",
       "101245                        2001\n",
       "dtype: object"
      ]
     },
     "execution_count": 40,
     "metadata": {},
     "output_type": "execute_result"
    }
   ],
   "source": [
    "# Next, we can convert each list of subject lines into a list of words.\n",
    "spam_words = pd.Series(\n",
    "    spam_subjects.str.cat(sep=' ').lower().split() # We make the words lowercase so that they're the same even if they were capitalized differently.\n",
    ")\n",
    "ham_words = pd.Series(\n",
    "    ham_subjects.str.cat(sep=' ').lower().split()\n",
    ")\n",
    "\n",
    "spam_words.sample(10) # Each of these variables is a list of lowercase words."
   ]
  },
  {
   "cell_type": "code",
   "execution_count": 41,
   "metadata": {
    "collapsed": false
   },
   "outputs": [
    {
     "data": {
      "text/plain": [
       "-       0.013956\n",
       "the     0.013341\n",
       "for     0.012871\n",
       "your    0.011869\n",
       "you     0.011476\n",
       "dtype: float64"
      ]
     },
     "execution_count": 41,
     "metadata": {},
     "output_type": "execute_result"
    }
   ],
   "source": [
    "# This code counts word frequencies, and then normalizes by total number of words.\n",
    "# The result is the \"rate\" at which each word appears for ham and spam subject lines.\n",
    "spam_word_rates = spam_words.value_counts() / len(spam_words)\n",
    "ham_word_rates = ham_words.value_counts() / len(ham_words)\n",
    "\n",
    "spam_word_rates.sort_values(ascending=False).head(5) # Top 5 spam \"words\""
   ]
  },
  {
   "cell_type": "markdown",
   "metadata": {},
   "source": [
    "Those words don't look very bad, do they? There's even some overlap with the most common ham words:"
   ]
  },
  {
   "cell_type": "code",
   "execution_count": 42,
   "metadata": {
    "collapsed": false
   },
   "outputs": [
    {
     "data": {
      "text/plain": [
       "re:    0.043530\n",
       "fw:    0.027745\n",
       "-      0.024978\n",
       "for    0.019530\n",
       "of     0.011256\n",
       "dtype: float64"
      ]
     },
     "execution_count": 42,
     "metadata": {},
     "output_type": "execute_result"
    }
   ],
   "source": [
    "ham_word_rates.sort_values(ascending=False).head()"
   ]
  },
  {
   "cell_type": "markdown",
   "metadata": {},
   "source": [
    "What actually matters is whether words are *more common* for spam or ham."
   ]
  },
  {
   "cell_type": "code",
   "execution_count": 43,
   "metadata": {
    "collapsed": false
   },
   "outputs": [
    {
     "data": {
      "text/plain": [
       "meds      286.929631\n",
       "viagra    252.237887\n",
       "cheap     213.932420\n",
       "75%       203.813994\n",
       "100%      170.567740\n",
       "dtype: float64"
      ]
     },
     "execution_count": 43,
     "metadata": {},
     "output_type": "execute_result"
    }
   ],
   "source": [
    "# We can divide spam word rates by ham word rates to find words that occur more in spam subject lines.\n",
    "spam_enriched_words = (spam_word_rates / ham_word_rates).sort_values(ascending=False)\n",
    "spam_enriched_words.head(5)"
   ]
  },
  {
   "cell_type": "code",
   "execution_count": 44,
   "metadata": {
    "collapsed": false
   },
   "outputs": [
    {
     "data": {
      "text/plain": [
       "enron     1441.726319\n",
       "tw         256.660492\n",
       "ferc       242.132539\n",
       "past       217.227478\n",
       "outage     211.693020\n",
       "dtype: float64"
      ]
     },
     "execution_count": 44,
     "metadata": {},
     "output_type": "execute_result"
    }
   ],
   "source": [
    "# These words are ranked by how much more often they show up in ham subject lines.\n",
    "ham_enriched_words = (ham_word_rates / spam_word_rates).sort_values(ascending=False)\n",
    "ham_enriched_words.head(5)"
   ]
  },
  {
   "cell_type": "markdown",
   "metadata": {
    "collapsed": false
   },
   "source": [
    "Now, we can build a really simple spam detector by looking for common spam words in subject lines:"
   ]
  },
  {
   "cell_type": "code",
   "execution_count": 45,
   "metadata": {
    "collapsed": false
   },
   "outputs": [
    {
     "name": "stdout",
     "output_type": "stream",
     "text": [
      "Simple spam detector TRAIN accuracy is: 60.63%\n",
      "Simple spam detector TEST accuracy is: 60.65%\n"
     ]
    }
   ],
   "source": [
    "# First, we write a function that looks for spam words in subject lines.\n",
    "def simple_spam_detector(subject_line, spam_words):\n",
    "    \"\"\"This is a function that returns 'spam' if the subject_line contains any spam_words.\"\"\"\n",
    "    subject_line_wordlist = subject_line.lower().split()\n",
    "    if any(word in subject_line_wordlist for word in spam_words):\n",
    "        return 'spam'\n",
    "    else:\n",
    "        return 'ham'\n",
    "\n",
    "# Next, we make a list of the spammiest words.\n",
    "# Let's use anything that's more than 10x more likely to be found in a spam subject line.\n",
    "top_spam_words = spam_enriched_words[spam_enriched_words>10].index.tolist()\n",
    "\n",
    "# Apply our spam detector to the subject lines in our test set...\n",
    "simple_spam_detector_train = trec_TRAIN_df['subject'].map(\n",
    "    lambda subject: simple_spam_detector(subject, top_spam_words)\n",
    ")\n",
    "simple_spam_detector_test = trec_TEST_df['subject'].map(\n",
    "    lambda subject: simple_spam_detector(subject, top_spam_words)\n",
    ")\n",
    "\n",
    "# ...and measure our accuracy!\n",
    "simple_acc_train = metrics.accuracy_score(\n",
    "    trec_TRAIN_df['label'],\n",
    "    simple_spam_detector_train\n",
    ")\n",
    "simple_acc_test = metrics.accuracy_score(\n",
    "    trec_TEST_df['label'],\n",
    "    simple_spam_detector_test\n",
    ")\n",
    "\n",
    "print('Simple spam detector TRAIN accuracy is: %.2f%%' % (simple_acc_train*100))\n",
    "print('Simple spam detector TEST accuracy is: %.2f%%' % (simple_acc_test*100))"
   ]
  },
  {
   "cell_type": "markdown",
   "metadata": {},
   "source": [
    "Remember, we got 58% accuracy just by guessing \"spam\" for everything. This isn't great. Let's try to improve it."
   ]
  },
  {
   "cell_type": "code",
   "execution_count": 46,
   "metadata": {
    "collapsed": false
   },
   "outputs": [
    {
     "name": "stdout",
     "output_type": "stream",
     "text": [
      "Simple spam detector TRAIN accuracy is: 81.78%\n",
      "Simple spam detector TEST accuracy is: 82.00%\n"
     ]
    }
   ],
   "source": [
    "# New hypothesis: it's spam if there are at least as many spammy words as hammy words\n",
    "def simple_spam_detector_v2(subject_line, spam_words, ham_words):\n",
    "    \"\"\"This function returns 'spam' if there are more spam words than ham words in the subject line.\"\"\"\n",
    "    subject_line_wordlist = subject_line.lower().split()\n",
    "    spam_word_count = sum(word in subject_line_wordlist for word in spam_words)\n",
    "    ham_word_count = sum(word in subject_line_wordlist for word in ham_words)\n",
    "    if spam_word_count>=ham_word_count:\n",
    "        return 'spam'\n",
    "    else:\n",
    "        return 'ham'\n",
    "\n",
    "# This time, let's get top spam words and top ham words\n",
    "top_spam_words = spam_enriched_words[spam_enriched_words>10].index.tolist()\n",
    "top_ham_words = ham_enriched_words[ham_enriched_words>10].index.tolist()\n",
    "\n",
    "# Apply the spam detector v2 function...\n",
    "simple_v2_train = trec_TRAIN_df['subject'].map(\n",
    "    lambda subject: simple_spam_detector_v2(subject, top_spam_words, top_ham_words)\n",
    ")\n",
    "simple_v2_test = trec_TEST_df['subject'].map(\n",
    "    lambda subject: simple_spam_detector_v2(subject, top_spam_words, top_ham_words)\n",
    ")\n",
    "\n",
    "# ...and measure accuracy!\n",
    "simple_v2_acc_train = metrics.accuracy_score(\n",
    "    trec_TRAIN_df['label'],\n",
    "    simple_v2_train\n",
    ")\n",
    "simple_v2_acc_test = metrics.accuracy_score(\n",
    "    trec_TEST_df['label'],\n",
    "    simple_v2_test\n",
    ")\n",
    "print('Simple spam detector TRAIN accuracy is: %.2f%%' % (simple_v2_acc_train*100))\n",
    "print('Simple spam detector TEST accuracy is: %.2f%%' % (simple_v2_acc_test*100))"
   ]
  },
  {
   "cell_type": "markdown",
   "metadata": {},
   "source": [
    "That's better! Still, not very useful. But, now we understand the problem a little better, and we built some things that will help us build a machine learning model."
   ]
  },
  {
   "cell_type": "markdown",
   "metadata": {
    "collapsed": true
   },
   "source": [
    "# Building a machine learning model"
   ]
  },
  {
   "cell_type": "markdown",
   "metadata": {},
   "source": [
    "### Features"
   ]
  },
  {
   "cell_type": "markdown",
   "metadata": {},
   "source": [
    "The first thing need to do is build our *features*. Features are numerical representations of your samples. In our intro example, we were provided with features. Now, we have to build our own."
   ]
  },
  {
   "cell_type": "code",
   "execution_count": 47,
   "metadata": {
    "collapsed": false
   },
   "outputs": [
    {
     "data": {
      "text/html": [
       "<div>\n",
       "<table border=\"1\" class=\"dataframe\">\n",
       "  <thead>\n",
       "    <tr style=\"text-align: right;\">\n",
       "      <th></th>\n",
       "      <th>label</th>\n",
       "      <th>subject</th>\n",
       "    </tr>\n",
       "  </thead>\n",
       "  <tbody>\n",
       "    <tr>\n",
       "      <th>65398</th>\n",
       "      <td>spam</td>\n",
       "      <td>You should start e-shopping for tablets earlie...</td>\n",
       "    </tr>\n",
       "    <tr>\n",
       "      <th>60387</th>\n",
       "      <td>ham</td>\n",
       "      <td>Schedule Crawler: HourAhead Failure</td>\n",
       "    </tr>\n",
       "    <tr>\n",
       "      <th>10112</th>\n",
       "      <td>ham</td>\n",
       "      <td>Van Steven Dickerson</td>\n",
       "    </tr>\n",
       "    <tr>\n",
       "      <th>4201</th>\n",
       "      <td>spam</td>\n",
       "      <td>The Next Grand Slam st0ck?</td>\n",
       "    </tr>\n",
       "    <tr>\n",
       "      <th>60162</th>\n",
       "      <td>spam</td>\n",
       "      <td>Thats how p/orn stars do it</td>\n",
       "    </tr>\n",
       "  </tbody>\n",
       "</table>\n",
       "</div>"
      ],
      "text/plain": [
       "      label                                            subject\n",
       "65398  spam  You should start e-shopping for tablets earlie...\n",
       "60387   ham                Schedule Crawler: HourAhead Failure\n",
       "10112   ham                               Van Steven Dickerson\n",
       "4201   spam                         The Next Grand Slam st0ck?\n",
       "60162  spam                        Thats how p/orn stars do it"
      ]
     },
     "execution_count": 47,
     "metadata": {},
     "output_type": "execute_result"
    }
   ],
   "source": [
    "trec_TRAIN_df.head()"
   ]
  },
  {
   "cell_type": "markdown",
   "metadata": {},
   "source": [
    "The work we've done already is a good place to start. For each spammy or hammy word, we can create a feature that indicates if it shows up in the subject line."
   ]
  },
  {
   "cell_type": "code",
   "execution_count": 48,
   "metadata": {
    "collapsed": false
   },
   "outputs": [],
   "source": [
    "# Let's get top spam words and top ham words again.\n",
    "top_spam_words = spam_enriched_words[spam_enriched_words>10].index.tolist()\n",
    "top_ham_words = ham_enriched_words[ham_enriched_words>10].index.tolist()\n",
    "\n",
    "# For each of these words, we will create a \"feature\" column.\n",
    "# If the word is in the subject line, we put a 1, otherwise, 0.\n",
    "for word in top_spam_words + top_ham_words:\n",
    "    # First for the training data.\n",
    "    trec_TRAIN_df['feature_%s' % word] = trec_TRAIN_df['subject'].str.lower().map(\n",
    "        lambda subject: word in subject\n",
    "    ).astype(int)\n",
    "    # Then for the test data.\n",
    "    trec_TEST_df['feature_%s' % word] = trec_TEST_df['subject'].str.lower().map(\n",
    "        lambda subject: word in subject\n",
    "    ).astype(int)"
   ]
  },
  {
   "cell_type": "code",
   "execution_count": 49,
   "metadata": {
    "collapsed": false
   },
   "outputs": [
    {
     "data": {
      "text/html": [
       "<div>\n",
       "<table border=\"1\" class=\"dataframe\">\n",
       "  <thead>\n",
       "    <tr style=\"text-align: right;\">\n",
       "      <th></th>\n",
       "      <th>label</th>\n",
       "      <th>subject</th>\n",
       "      <th>feature_meds</th>\n",
       "      <th>feature_viagra</th>\n",
       "      <th>feature_cheap</th>\n",
       "      <th>feature_75%</th>\n",
       "      <th>feature_100%</th>\n",
       "      <th>feature_$20</th>\n",
       "      <th>feature_penny</th>\n",
       "      <th>feature_xp</th>\n",
       "      <th>...</th>\n",
       "      <th>feature_complaint</th>\n",
       "      <th>feature_terms</th>\n",
       "      <th>feature_proceedings</th>\n",
       "      <th>feature_wood</th>\n",
       "      <th>feature_letter</th>\n",
       "      <th>feature_printing</th>\n",
       "      <th>feature_dec.</th>\n",
       "      <th>feature_call</th>\n",
       "      <th>feature_transaction</th>\n",
       "      <th>feature_general</th>\n",
       "    </tr>\n",
       "  </thead>\n",
       "  <tbody>\n",
       "    <tr>\n",
       "      <th>65398</th>\n",
       "      <td>spam</td>\n",
       "      <td>You should start e-shopping for tablets earlie...</td>\n",
       "      <td>0</td>\n",
       "      <td>0</td>\n",
       "      <td>0</td>\n",
       "      <td>0</td>\n",
       "      <td>0</td>\n",
       "      <td>0</td>\n",
       "      <td>0</td>\n",
       "      <td>0</td>\n",
       "      <td>...</td>\n",
       "      <td>0</td>\n",
       "      <td>0</td>\n",
       "      <td>0</td>\n",
       "      <td>0</td>\n",
       "      <td>0</td>\n",
       "      <td>0</td>\n",
       "      <td>0</td>\n",
       "      <td>0</td>\n",
       "      <td>0</td>\n",
       "      <td>0</td>\n",
       "    </tr>\n",
       "    <tr>\n",
       "      <th>60387</th>\n",
       "      <td>ham</td>\n",
       "      <td>Schedule Crawler: HourAhead Failure</td>\n",
       "      <td>0</td>\n",
       "      <td>0</td>\n",
       "      <td>0</td>\n",
       "      <td>0</td>\n",
       "      <td>0</td>\n",
       "      <td>0</td>\n",
       "      <td>0</td>\n",
       "      <td>0</td>\n",
       "      <td>...</td>\n",
       "      <td>0</td>\n",
       "      <td>0</td>\n",
       "      <td>0</td>\n",
       "      <td>0</td>\n",
       "      <td>0</td>\n",
       "      <td>0</td>\n",
       "      <td>0</td>\n",
       "      <td>0</td>\n",
       "      <td>0</td>\n",
       "      <td>0</td>\n",
       "    </tr>\n",
       "    <tr>\n",
       "      <th>10112</th>\n",
       "      <td>ham</td>\n",
       "      <td>Van Steven Dickerson</td>\n",
       "      <td>0</td>\n",
       "      <td>0</td>\n",
       "      <td>0</td>\n",
       "      <td>0</td>\n",
       "      <td>0</td>\n",
       "      <td>0</td>\n",
       "      <td>0</td>\n",
       "      <td>0</td>\n",
       "      <td>...</td>\n",
       "      <td>0</td>\n",
       "      <td>0</td>\n",
       "      <td>0</td>\n",
       "      <td>0</td>\n",
       "      <td>0</td>\n",
       "      <td>0</td>\n",
       "      <td>0</td>\n",
       "      <td>0</td>\n",
       "      <td>0</td>\n",
       "      <td>0</td>\n",
       "    </tr>\n",
       "    <tr>\n",
       "      <th>4201</th>\n",
       "      <td>spam</td>\n",
       "      <td>The Next Grand Slam st0ck?</td>\n",
       "      <td>0</td>\n",
       "      <td>0</td>\n",
       "      <td>0</td>\n",
       "      <td>0</td>\n",
       "      <td>0</td>\n",
       "      <td>0</td>\n",
       "      <td>0</td>\n",
       "      <td>0</td>\n",
       "      <td>...</td>\n",
       "      <td>0</td>\n",
       "      <td>0</td>\n",
       "      <td>0</td>\n",
       "      <td>0</td>\n",
       "      <td>0</td>\n",
       "      <td>0</td>\n",
       "      <td>0</td>\n",
       "      <td>0</td>\n",
       "      <td>0</td>\n",
       "      <td>0</td>\n",
       "    </tr>\n",
       "    <tr>\n",
       "      <th>60162</th>\n",
       "      <td>spam</td>\n",
       "      <td>Thats how p/orn stars do it</td>\n",
       "      <td>0</td>\n",
       "      <td>0</td>\n",
       "      <td>0</td>\n",
       "      <td>0</td>\n",
       "      <td>0</td>\n",
       "      <td>0</td>\n",
       "      <td>0</td>\n",
       "      <td>0</td>\n",
       "      <td>...</td>\n",
       "      <td>0</td>\n",
       "      <td>0</td>\n",
       "      <td>0</td>\n",
       "      <td>0</td>\n",
       "      <td>0</td>\n",
       "      <td>0</td>\n",
       "      <td>0</td>\n",
       "      <td>0</td>\n",
       "      <td>0</td>\n",
       "      <td>0</td>\n",
       "    </tr>\n",
       "  </tbody>\n",
       "</table>\n",
       "<p>5 rows × 603 columns</p>\n",
       "</div>"
      ],
      "text/plain": [
       "      label                                            subject  feature_meds  \\\n",
       "65398  spam  You should start e-shopping for tablets earlie...             0   \n",
       "60387   ham                Schedule Crawler: HourAhead Failure             0   \n",
       "10112   ham                               Van Steven Dickerson             0   \n",
       "4201   spam                         The Next Grand Slam st0ck?             0   \n",
       "60162  spam                        Thats how p/orn stars do it             0   \n",
       "\n",
       "       feature_viagra  feature_cheap  feature_75%  feature_100%  feature_$20  \\\n",
       "65398               0              0            0             0            0   \n",
       "60387               0              0            0             0            0   \n",
       "10112               0              0            0             0            0   \n",
       "4201                0              0            0             0            0   \n",
       "60162               0              0            0             0            0   \n",
       "\n",
       "       feature_penny  feature_xp       ...         feature_complaint  \\\n",
       "65398              0           0       ...                         0   \n",
       "60387              0           0       ...                         0   \n",
       "10112              0           0       ...                         0   \n",
       "4201               0           0       ...                         0   \n",
       "60162              0           0       ...                         0   \n",
       "\n",
       "       feature_terms  feature_proceedings  feature_wood  feature_letter  \\\n",
       "65398              0                    0             0               0   \n",
       "60387              0                    0             0               0   \n",
       "10112              0                    0             0               0   \n",
       "4201               0                    0             0               0   \n",
       "60162              0                    0             0               0   \n",
       "\n",
       "       feature_printing  feature_dec.  feature_call  feature_transaction  \\\n",
       "65398                 0             0             0                    0   \n",
       "60387                 0             0             0                    0   \n",
       "10112                 0             0             0                    0   \n",
       "4201                  0             0             0                    0   \n",
       "60162                 0             0             0                    0   \n",
       "\n",
       "       feature_general  \n",
       "65398                0  \n",
       "60387                0  \n",
       "10112                0  \n",
       "4201                 0  \n",
       "60162                0  \n",
       "\n",
       "[5 rows x 603 columns]"
      ]
     },
     "execution_count": 49,
     "metadata": {},
     "output_type": "execute_result"
    }
   ],
   "source": [
    "trec_TRAIN_df.head()"
   ]
  },
  {
   "cell_type": "code",
   "execution_count": 51,
   "metadata": {
    "collapsed": false
   },
   "outputs": [
    {
     "data": {
      "text/plain": [
       "601"
      ]
     },
     "execution_count": 51,
     "metadata": {},
     "output_type": "execute_result"
    }
   ],
   "source": [
    "len(trec_TRAIN_df.columns)-2"
   ]
  },
  {
   "cell_type": "markdown",
   "metadata": {},
   "source": [
    "It's generally a good idea to explore the distribution of your features."
   ]
  },
  {
   "cell_type": "code",
   "execution_count": 52,
   "metadata": {
    "collapsed": false
   },
   "outputs": [
    {
     "data": {
      "text/plain": [
       "0    70323\n",
       "1      469\n",
       "Name: feature_meds, dtype: int64"
      ]
     },
     "execution_count": 52,
     "metadata": {},
     "output_type": "execute_result"
    }
   ],
   "source": [
    "# How often does \"meds\" show up in subject lines?\n",
    "trec_TRAIN_df['feature_meds'].value_counts()"
   ]
  },
  {
   "cell_type": "code",
   "execution_count": 53,
   "metadata": {
    "collapsed": false
   },
   "outputs": [
    {
     "data": {
      "text/html": [
       "<div>\n",
       "<table border=\"1\" class=\"dataframe\">\n",
       "  <thead>\n",
       "    <tr style=\"text-align: right;\">\n",
       "      <th>label</th>\n",
       "      <th>ham</th>\n",
       "      <th>spam</th>\n",
       "    </tr>\n",
       "    <tr>\n",
       "      <th>feature_meds</th>\n",
       "      <th></th>\n",
       "      <th></th>\n",
       "    </tr>\n",
       "  </thead>\n",
       "  <tbody>\n",
       "    <tr>\n",
       "      <th>0</th>\n",
       "      <td>29849</td>\n",
       "      <td>40474</td>\n",
       "    </tr>\n",
       "    <tr>\n",
       "      <th>1</th>\n",
       "      <td>1</td>\n",
       "      <td>468</td>\n",
       "    </tr>\n",
       "  </tbody>\n",
       "</table>\n",
       "</div>"
      ],
      "text/plain": [
       "label           ham   spam\n",
       "feature_meds              \n",
       "0             29849  40474\n",
       "1                 1    468"
      ]
     },
     "execution_count": 53,
     "metadata": {},
     "output_type": "execute_result"
    }
   ],
   "source": [
    "# How often does \"meds\" show up in ham vs spam subject lines?\n",
    "pd.crosstab(trec_TRAIN_df['feature_meds'], trec_TRAIN_df['label'])"
   ]
  },
  {
   "cell_type": "code",
   "execution_count": 54,
   "metadata": {
    "collapsed": false
   },
   "outputs": [
    {
     "data": {
      "text/html": [
       "<div>\n",
       "<table border=\"1\" class=\"dataframe\">\n",
       "  <thead>\n",
       "    <tr style=\"text-align: right;\">\n",
       "      <th>label</th>\n",
       "      <th>ham</th>\n",
       "      <th>spam</th>\n",
       "    </tr>\n",
       "    <tr>\n",
       "      <th>feature_past</th>\n",
       "      <th></th>\n",
       "      <th></th>\n",
       "    </tr>\n",
       "  </thead>\n",
       "  <tbody>\n",
       "    <tr>\n",
       "      <th>0</th>\n",
       "      <td>29691</td>\n",
       "      <td>40940</td>\n",
       "    </tr>\n",
       "    <tr>\n",
       "      <th>1</th>\n",
       "      <td>159</td>\n",
       "      <td>2</td>\n",
       "    </tr>\n",
       "  </tbody>\n",
       "</table>\n",
       "</div>"
      ],
      "text/plain": [
       "label           ham   spam\n",
       "feature_past              \n",
       "0             29691  40940\n",
       "1               159      2"
      ]
     },
     "execution_count": 54,
     "metadata": {},
     "output_type": "execute_result"
    }
   ],
   "source": [
    "# How often does \"past\" show up in ham vs spam subject lines?\n",
    "pd.crosstab(trec_TRAIN_df['feature_past'], trec_TRAIN_df['label'])"
   ]
  },
  {
   "cell_type": "markdown",
   "metadata": {},
   "source": [
    "### Random forest model version 1"
   ]
  },
  {
   "cell_type": "code",
   "execution_count": 55,
   "metadata": {
    "collapsed": false
   },
   "outputs": [
    {
     "data": {
      "text/plain": [
       "['feature_meds',\n",
       " 'feature_viagra',\n",
       " 'feature_cheap',\n",
       " 'feature_75%',\n",
       " 'feature_100%',\n",
       " 'feature_$20',\n",
       " 'feature_penny',\n",
       " 'feature_xp',\n",
       " 'feature_sex',\n",
       " 'feature_each',\n",
       " 'feature_specials',\n",
       " 'feature_low',\n",
       " 'feature_thread',\n",
       " 'feature_custom',\n",
       " 'feature_download',\n",
       " 'feature_:)',\n",
       " 'feature_generic',\n",
       " 'feature_amazing',\n",
       " 'feature_her',\n",
       " 'feature_soft',\n",
       " 'feature_2004',\n",
       " 'feature_80%',\n",
       " 'feature_windows',\n",
       " 'feature_mortgage',\n",
       " 'feature_cable',\n",
       " 'feature_growth',\n",
       " 'feature_recommended',\n",
       " 'feature_someone',\n",
       " 'feature_extra',\n",
       " 'feature_6.0',\n",
       " 'feature_their',\n",
       " 'feature_software',\n",
       " 'feature_health',\n",
       " 'feature_pc',\n",
       " 'feature_fast',\n",
       " 'feature_paypal',\n",
       " 'feature_re[2]:',\n",
       " 'feature_traffic',\n",
       " 'feature_used',\n",
       " 'feature_boost',\n",
       " 'feature_easy',\n",
       " 'feature_dating',\n",
       " 'feature_needed!',\n",
       " 'feature_secret',\n",
       " 'feature_z',\n",
       " 'feature_loans',\n",
       " 'feature_drugs',\n",
       " 'feature_best',\n",
       " 'feature_pill',\n",
       " 'feature_healthy',\n",
       " 'feature_less',\n",
       " 'feature_don`t',\n",
       " 'feature_magazine',\n",
       " 'feature_mens',\n",
       " 'feature_better',\n",
       " 'feature_70%',\n",
       " 'feature_sexy',\n",
       " 'feature_pertaining',\n",
       " 'feature_continental.com',\n",
       " 'feature_ebay',\n",
       " 'feature_brand',\n",
       " 'feature_>>',\n",
       " 'feature_porn',\n",
       " 'feature_stars',\n",
       " 'feature_homes',\n",
       " 'feature_remedy',\n",
       " \"feature_'\",\n",
       " 'feature_much',\n",
       " 'feature_bird',\n",
       " 'feature_nothing',\n",
       " 'feature_starting',\n",
       " 'feature_wide',\n",
       " 'feature_every',\n",
       " 'feature_wanna',\n",
       " 'feature_congratulations',\n",
       " 'feature_highly',\n",
       " 'feature_save',\n",
       " 'feature_winner',\n",
       " 'feature_hard',\n",
       " 'feature_woman',\n",
       " 'feature_others',\n",
       " 'feature_cs',\n",
       " 'feature_choose',\n",
       " 'feature_sexual',\n",
       " 'feature_fares',\n",
       " 'feature_mr.',\n",
       " 'feature_re[4]:',\n",
       " 'feature_soon',\n",
       " 'feature_onepass',\n",
       " 'feature_!!!!',\n",
       " 'feature_cute',\n",
       " 'feature_seminars',\n",
       " 'feature_his',\n",
       " 'feature_subject',\n",
       " 'feature_never',\n",
       " 'feature_professional',\n",
       " 'feature_experience',\n",
       " 'feature_confidence',\n",
       " 'feature_great',\n",
       " 'feature_paris',\n",
       " 'feature_*',\n",
       " 'feature_find',\n",
       " 'feature_feel',\n",
       " 'feature_very',\n",
       " 'feature_girls',\n",
       " 'feature_quality',\n",
       " 'feature_partner',\n",
       " 'feature_wall',\n",
       " 'feature_reduce',\n",
       " 'feature_she',\n",
       " 'feature_shares',\n",
       " 'feature_talk',\n",
       " 'feature_stocks',\n",
       " 'feature_half',\n",
       " 'feature_many',\n",
       " 'feature_jul',\n",
       " 'feature_wed,',\n",
       " 'feature_catch',\n",
       " 'feature_them',\n",
       " 'feature_doctor',\n",
       " 'feature_secure',\n",
       " 'feature_greatest',\n",
       " 'feature_re[6]:',\n",
       " 'feature_q',\n",
       " 'feature_care',\n",
       " 'feature_selection',\n",
       " 'feature_sister',\n",
       " 'feature_pace',\n",
       " 'feature_ease',\n",
       " 'feature_banking',\n",
       " 'feature_80',\n",
       " 'feature_buy',\n",
       " 'feature_stop',\n",
       " 'feature_ever',\n",
       " 'feature_emerging',\n",
       " 'feature_play',\n",
       " 'feature_saving',\n",
       " 'feature_free!',\n",
       " 'feature_assist',\n",
       " 'feature_airways',\n",
       " 'feature_..',\n",
       " 'feature_2003',\n",
       " 'feature_wonderful',\n",
       " \"feature_don't\",\n",
       " 'feature_ms',\n",
       " 'feature_g',\n",
       " 'feature_discount',\n",
       " 'feature_pro',\n",
       " 'feature_online!',\n",
       " 'feature_delivers',\n",
       " 'feature_adv:',\n",
       " 'feature_opportunity:',\n",
       " 'feature_remember',\n",
       " 'feature_want',\n",
       " 'feature_like',\n",
       " 'feature_k',\n",
       " 'feature_investors',\n",
       " 'feature_laid',\n",
       " 'feature_r',\n",
       " 'feature_powerhouse',\n",
       " 'feature_+',\n",
       " 'feature_cam',\n",
       " 'feature_medical',\n",
       " 'feature_unique',\n",
       " 'feature_chance',\n",
       " 'feature_being',\n",
       " 'feature_fat',\n",
       " 'feature_hot',\n",
       " 'feature_store',\n",
       " 'feature_profile',\n",
       " 'feature_millenium',\n",
       " 'feature_such',\n",
       " 'feature_blockbuster',\n",
       " 'feature_too',\n",
       " 'feature_seen',\n",
       " 'feature_own',\n",
       " \"feature_let's\",\n",
       " 'feature_learn',\n",
       " 'feature_n',\n",
       " 'feature_hit',\n",
       " 'feature_relief',\n",
       " 'feature_mg',\n",
       " \"feature_here's\",\n",
       " 'feature_dick',\n",
       " 'feature_unusual',\n",
       " 'feature_modern',\n",
       " 'feature_tonite',\n",
       " \"feature_there's\",\n",
       " 'feature_verify',\n",
       " 'feature_mr',\n",
       " 'feature_southwest.com',\n",
       " 'feature_tu',\n",
       " 'feature_valid',\n",
       " 'feature_guys',\n",
       " 'feature_dj',\n",
       " 'feature_love',\n",
       " 'feature_bottom',\n",
       " 'feature_success',\n",
       " 'feature_gains',\n",
       " 'feature_experts',\n",
       " 'feature_longer',\n",
       " 'feature_machine',\n",
       " \"feature_isn't\",\n",
       " 'feature_laugh',\n",
       " 'feature_$50',\n",
       " 'feature_daughter',\n",
       " 'feature_flying',\n",
       " 'feature_apr',\n",
       " 'feature_make',\n",
       " 'feature_pick',\n",
       " 'feature_take',\n",
       " \"feature_won't\",\n",
       " 'feature_click',\n",
       " 'feature_spec',\n",
       " 'feature_continued',\n",
       " 'feature_deliver',\n",
       " 'feature_curious',\n",
       " 'feature_wish',\n",
       " 'feature_dude',\n",
       " 'feature_clear',\n",
       " 'feature_med',\n",
       " 'feature_sets',\n",
       " 'feature_draw',\n",
       " 'feature_then',\n",
       " 'feature_had',\n",
       " 'feature_everything',\n",
       " 'feature_cap',\n",
       " 'feature_does',\n",
       " 'feature_off',\n",
       " 'feature_dirty',\n",
       " 'feature_time.',\n",
       " 'feature_lose',\n",
       " 'feature_cancer',\n",
       " 'feature_invalid',\n",
       " 'feature_having',\n",
       " 'feature_level',\n",
       " 'feature_mrs.',\n",
       " 'feature_without',\n",
       " 'feature_\"',\n",
       " 'feature_expose',\n",
       " 'feature_enron',\n",
       " 'feature_tw',\n",
       " 'feature_ferc',\n",
       " 'feature_past',\n",
       " 'feature_outage',\n",
       " 'feature_memo',\n",
       " 'feature_due',\n",
       " 'feature_gas',\n",
       " 'feature_ercot',\n",
       " 'feature_pipeline',\n",
       " 'feature_updated',\n",
       " 'feature_survey',\n",
       " 'feature_agenda',\n",
       " 'feature_storage',\n",
       " 'feature_failure',\n",
       " 'feature_committee',\n",
       " 'feature_paso',\n",
       " 'feature_capacity',\n",
       " 'feature_plans',\n",
       " 'feature_meetings',\n",
       " 'feature_master',\n",
       " 'feature_merger',\n",
       " 'feature_state',\n",
       " 'feature_received',\n",
       " 'feature_region',\n",
       " 'feature_location',\n",
       " 'feature_data',\n",
       " 'feature_corp',\n",
       " 'feature_document',\n",
       " 'feature_plan',\n",
       " 'feature_request',\n",
       " 'feature_assignment',\n",
       " 'feature_november',\n",
       " 'feature_hr',\n",
       " 'feature_requires',\n",
       " 'feature_summary',\n",
       " 'feature_october',\n",
       " 'feature_west',\n",
       " 'feature_cnn',\n",
       " 'feature_language',\n",
       " 'feature_options',\n",
       " 'feature_slightly',\n",
       " 'feature_no.',\n",
       " 'feature_discuss',\n",
       " 'feature_vs.',\n",
       " 'feature_transactions',\n",
       " 'feature_notification:',\n",
       " 'feature_regulatory',\n",
       " 'feature_migration',\n",
       " 'feature_requests',\n",
       " 'feature_fyi',\n",
       " 'feature_v.',\n",
       " 'feature_invoices',\n",
       " 'feature_19,',\n",
       " 'feature_status',\n",
       " 'feature_agreement',\n",
       " 'feature_sunday',\n",
       " 'feature_progress',\n",
       " 'feature_california',\n",
       " 'feature_resume',\n",
       " 'feature_21,',\n",
       " 'feature_meeting',\n",
       " 'feature_25,',\n",
       " 'feature_duke',\n",
       " 'feature_football',\n",
       " 'feature_assignments',\n",
       " 'feature_presentation',\n",
       " 'feature_north',\n",
       " 'feature_strategy',\n",
       " 'feature_board',\n",
       " 'feature_citizens',\n",
       " 'feature_morgan',\n",
       " 'feature_morn',\n",
       " 'feature_london',\n",
       " 'feature_corporate',\n",
       " 'feature_station',\n",
       " 'feature_river',\n",
       " 'feature_violation',\n",
       " 'feature_heat',\n",
       " 'feature_extension',\n",
       " 'feature_steve',\n",
       " 'feature_calendar',\n",
       " 'feature_scheduled',\n",
       " 'feature_iv',\n",
       " 'feature_et',\n",
       " 'feature_evil',\n",
       " 'feature_policy',\n",
       " 'feature_trades',\n",
       " 'feature_employee',\n",
       " 'feature_conference',\n",
       " 'feature_support',\n",
       " 'feature_opening',\n",
       " 'feature_ca',\n",
       " 'feature_employees',\n",
       " 'feature_procedures',\n",
       " 'feature_2,',\n",
       " 'feature_fantasy',\n",
       " 'feature_auction',\n",
       " 'feature_numbers',\n",
       " 'feature_pulp',\n",
       " 'feature_practice',\n",
       " 'feature_budget',\n",
       " 'feature_case',\n",
       " 'feature_dash',\n",
       " 'feature_august',\n",
       " 'feature_recruiting',\n",
       " 'feature_midday',\n",
       " 'feature_(failure)',\n",
       " 'feature_schedule',\n",
       " 'feature_juan',\n",
       " 'feature_land',\n",
       " 'feature_talking',\n",
       " 'feature_point',\n",
       " 'feature_cbs',\n",
       " 'feature_expense',\n",
       " 'feature_lunch',\n",
       " 'feature_reserve',\n",
       " 'feature_18,',\n",
       " 'feature_estimate',\n",
       " 'feature_carthage',\n",
       " 'feature_chris',\n",
       " 'feature_upstream',\n",
       " 'feature_list',\n",
       " 'feature_description',\n",
       " 'feature_accounting',\n",
       " 'feature_presentations',\n",
       " 'feature_week:',\n",
       " 'feature_13,',\n",
       " 'feature_alert,',\n",
       " 'feature_construction',\n",
       " 'feature_fw:',\n",
       " 'feature_form',\n",
       " 'feature_contract',\n",
       " 'feature_02',\n",
       " 'feature_interconnection',\n",
       " 'feature_content',\n",
       " 'feature_2001:',\n",
       " 'feature_confirms',\n",
       " 'feature_related',\n",
       " 'feature_potential',\n",
       " 'feature_stanley',\n",
       " 'feature_wire',\n",
       " 'feature_continue',\n",
       " 'feature_america',\n",
       " 'feature_ng',\n",
       " 'feature_electronic',\n",
       " 'feature_league',\n",
       " 'feature_enw',\n",
       " 'feature_target',\n",
       " 'feature_launch',\n",
       " 'feature_natural',\n",
       " 'feature_validation',\n",
       " 'feature_structure',\n",
       " 'feature_firm',\n",
       " 'feature_virus',\n",
       " 'feature_griffith',\n",
       " 'feature_wind',\n",
       " 'feature_mail:',\n",
       " 'feature_inc.',\n",
       " 'feature_changes',\n",
       " 'feature_plant',\n",
       " 'feature_dinner',\n",
       " 'feature_executive',\n",
       " \"feature_today's\",\n",
       " 'feature_start',\n",
       " 'feature_telephone',\n",
       " 'feature_6,',\n",
       " 'feature_update,',\n",
       " 'feature_lavorato',\n",
       " 'feature_generator',\n",
       " 'feature_strategic',\n",
       " 'feature_refund',\n",
       " 'feature_reconciliation',\n",
       " 'feature_reminder:',\n",
       " 'feature_haas',\n",
       " 'feature_calls',\n",
       " 'feature_global',\n",
       " 'feature_resources',\n",
       " 'feature_golf',\n",
       " 'feature_lc',\n",
       " 'feature_basis',\n",
       " 'feature_chicago',\n",
       " 'feature_rules',\n",
       " 'feature_boston',\n",
       " 'feature_desk',\n",
       " 'feature_reporting',\n",
       " 'feature_portland',\n",
       " 'feature_practices',\n",
       " 'feature_south',\n",
       " 'feature_williams',\n",
       " 'feature_position',\n",
       " 'feature_reports',\n",
       " 'feature_papers',\n",
       " 'feature_fax',\n",
       " 'feature_raymond',\n",
       " 'feature_pm',\n",
       " 'feature_bp',\n",
       " 'feature_ceo',\n",
       " 'feature_senate',\n",
       " 'feature_bar',\n",
       " 'feature_instructions',\n",
       " 'feature_focus',\n",
       " 'feature_base',\n",
       " 'feature_florida',\n",
       " 'feature_saved',\n",
       " 'feature_invoice',\n",
       " 'feature_process',\n",
       " 'feature_management',\n",
       " 'feature_jan.',\n",
       " 'feature_fuel',\n",
       " 'feature_txu',\n",
       " 'feature_competitive',\n",
       " 'feature_urgent:',\n",
       " 'feature_japan',\n",
       " 'feature_daily',\n",
       " 'feature_reserves',\n",
       " 'feature_actual',\n",
       " 'feature_joint',\n",
       " 'feature_moved',\n",
       " 'feature_fbi',\n",
       " 'feature_ice',\n",
       " 'feature_29,',\n",
       " 'feature_jones',\n",
       " 'feature_floor',\n",
       " 'feature_feb.',\n",
       " 'feature_team',\n",
       " 'feature_diabetes',\n",
       " 'feature_breakfast',\n",
       " 'feature_access',\n",
       " 'feature_corporation',\n",
       " 'feature_rescheduled',\n",
       " 'feature_infrastructure',\n",
       " 'feature_decision',\n",
       " 'feature_23rd',\n",
       " \"feature_tomorrow's\",\n",
       " 'feature_peak',\n",
       " 'feature_priority',\n",
       " 'feature_conflict',\n",
       " 'feature_communications',\n",
       " 'feature_correction',\n",
       " 'feature_restructuring',\n",
       " 'feature_&amp;',\n",
       " 'feature_james',\n",
       " 'feature_attend',\n",
       " 'feature_affiliate',\n",
       " 'feature_cross',\n",
       " 'feature_derate',\n",
       " 'feature_risk',\n",
       " 'feature_group',\n",
       " 'feature_version',\n",
       " 'feature_hunting',\n",
       " 'feature_events',\n",
       " 'feature_bowl',\n",
       " 'feature_campaign',\n",
       " 'feature_signed',\n",
       " 'feature_1,',\n",
       " 'feature_mba',\n",
       " 'feature_teams',\n",
       " 'feature_lines',\n",
       " 'feature_northwestern',\n",
       " 'feature_investigation',\n",
       " 'feature_discussions',\n",
       " 'feature_administration',\n",
       " 'feature_gray',\n",
       " 'feature_consulting',\n",
       " 'feature_suit',\n",
       " 'feature_heavy',\n",
       " 'feature_mike',\n",
       " 'feature_tom',\n",
       " 'feature_regional',\n",
       " 'feature_mid',\n",
       " 'feature_el',\n",
       " 'feature_operations',\n",
       " 'feature_trip',\n",
       " 'feature_robert',\n",
       " 'feature_view',\n",
       " 'feature_book',\n",
       " 'feature_contracts',\n",
       " 'feature_estate',\n",
       " 'feature_update:',\n",
       " 'feature_former',\n",
       " 'feature_bidding',\n",
       " 'feature_securities',\n",
       " 'feature_passing',\n",
       " 'feature_air',\n",
       " 'feature_barry',\n",
       " 'feature_users',\n",
       " 'feature_word',\n",
       " 'feature_item',\n",
       " 'feature_song',\n",
       " 'feature_allen',\n",
       " 'feature_pacific',\n",
       " 'feature_carr',\n",
       " 'feature_leaving',\n",
       " 'feature_field',\n",
       " 'feature_alliance',\n",
       " 'feature_deck',\n",
       " 'feature_tim',\n",
       " 'feature_2001',\n",
       " 'feature_27,',\n",
       " 'feature_mexico',\n",
       " 'feature_unit',\n",
       " 'feature_books',\n",
       " 'feature_20,',\n",
       " 'feature_login',\n",
       " 'feature_utilities',\n",
       " 'feature_al',\n",
       " 'feature_urgent!',\n",
       " 'feature_winter',\n",
       " 'feature_ii',\n",
       " 'feature_tickets',\n",
       " 'feature_procedure',\n",
       " 'feature_proposals',\n",
       " 'feature_e-journal',\n",
       " 'feature_compliance',\n",
       " 'feature_fishing',\n",
       " 'feature_tommorrow',\n",
       " 'feature_secretary',\n",
       " 'feature_dumas',\n",
       " 'feature_seeing',\n",
       " 'feature_awards',\n",
       " 'feature_table',\n",
       " 'feature_included',\n",
       " 'feature_removal',\n",
       " 'feature_corrected',\n",
       " 'feature_ltd',\n",
       " 'feature_listing',\n",
       " 'feature_bound',\n",
       " 'feature_fair',\n",
       " 'feature_policies',\n",
       " 'feature_dallas',\n",
       " 'feature_richard',\n",
       " 'feature_regulation',\n",
       " 'feature_talent',\n",
       " 'feature_year-end',\n",
       " 'feature_error',\n",
       " 'feature_reliability',\n",
       " 'feature_keystone',\n",
       " 'feature_temporary',\n",
       " 'feature_tennis',\n",
       " 'feature_anthony',\n",
       " 'feature_counts',\n",
       " 'feature_red',\n",
       " 'feature_limit',\n",
       " 'feature_texas',\n",
       " 'feature_hearing',\n",
       " 'feature_oct',\n",
       " 'feature_end',\n",
       " 'feature_positions',\n",
       " 'feature_energy',\n",
       " 'feature_together',\n",
       " 'feature_complaint',\n",
       " 'feature_terms',\n",
       " 'feature_proceedings',\n",
       " 'feature_wood',\n",
       " 'feature_letter',\n",
       " 'feature_printing',\n",
       " 'feature_dec.',\n",
       " 'feature_call',\n",
       " 'feature_transaction',\n",
       " 'feature_general']"
      ]
     },
     "execution_count": 55,
     "metadata": {},
     "output_type": "execute_result"
    }
   ],
   "source": [
    "# Our model will need to know which columns contain features.\n",
    "features = [col for col in trec_TRAIN_df if col.startswith('feature')]\n",
    "features"
   ]
  },
  {
   "cell_type": "code",
   "execution_count": 56,
   "metadata": {
    "collapsed": false
   },
   "outputs": [
    {
     "data": {
      "text/plain": [
       "601"
      ]
     },
     "execution_count": 56,
     "metadata": {},
     "output_type": "execute_result"
    }
   ],
   "source": [
    "len(features)"
   ]
  },
  {
   "cell_type": "code",
   "execution_count": 57,
   "metadata": {
    "collapsed": false
   },
   "outputs": [
    {
     "data": {
      "text/plain": [
       "RandomForestClassifier(bootstrap=True, class_weight=None, criterion='gini',\n",
       "            max_depth=None, max_features='auto', max_leaf_nodes=None,\n",
       "            min_impurity_split=1e-07, min_samples_leaf=1,\n",
       "            min_samples_split=2, min_weight_fraction_leaf=0.0,\n",
       "            n_estimators=32, n_jobs=-1, oob_score=False, random_state=None,\n",
       "            verbose=0, warm_start=False)"
      ]
     },
     "execution_count": 57,
     "metadata": {},
     "output_type": "execute_result"
    }
   ],
   "source": [
    "# Create a new classifier\n",
    "rf_clf_v1 = ensemble.RandomForestClassifier( # http://scikit-learn.org/stable/modules/generated/sklearn.ensemble.RandomForestClassifier.html\n",
    "    n_estimators=32, # How many trees? More is better, but slower.\n",
    "    n_jobs=-1\n",
    ")\n",
    "\n",
    "# Fit our training data\n",
    "rf_clf_v1.fit(trec_TRAIN_df[features], trec_TRAIN_df['label'])"
   ]
  },
  {
   "cell_type": "code",
   "execution_count": 58,
   "metadata": {
    "collapsed": false
   },
   "outputs": [
    {
     "name": "stdout",
     "output_type": "stream",
     "text": [
      "Random Forest v1 TRAIN accuracy is: 90.40%\n",
      "Random Forest v1 TEST accuracy is: 87.50%\n"
     ]
    }
   ],
   "source": [
    "# Make predictions\n",
    "rf_v1_predictions_train = rf_clf_v1.predict(trec_TRAIN_df[features])\n",
    "rf_v1_predictions_test = rf_clf_v1.predict(trec_TEST_df[features])\n",
    "\n",
    "# Measure accuracy\n",
    "rf_v1_acc_train = metrics.accuracy_score(trec_TRAIN_df['label'], rf_v1_predictions_train)\n",
    "rf_v1_acc_test = metrics.accuracy_score(trec_TEST_df['label'], rf_v1_predictions_test)\n",
    "\n",
    "print('Random Forest v1 TRAIN accuracy is: %.2f%%' % (rf_v1_acc_train*100))\n",
    "print('Random Forest v1 TEST accuracy is: %.2f%%' % (rf_v1_acc_test*100))"
   ]
  },
  {
   "cell_type": "markdown",
   "metadata": {},
   "source": [
    "Note the significant gap between train and test accuracy. The Random Forest algorithm can fit very tightly to data, sometimes too tightly. This is called \"overfitting.\" We can see from the train/test accuracy gap that our model is fitting to aspects of the data that matter only for the training set, and don't generalize well.  \n",
    "\n",
    "This is why we test! What can we do about it? More data is the best solution. As the amount of data you have increases, the gap between train and test accuracy generally *decreases*."
   ]
  },
  {
   "cell_type": "code",
   "execution_count": 59,
   "metadata": {
    "collapsed": false
   },
   "outputs": [
    {
     "data": {
      "image/png": "[encoded data removed]",
      "text/plain": [
       "<matplotlib.figure.Figure at 0x7fe6dc0f3860>"
      ]
     },
     "metadata": {},
     "output_type": "display_data"
    }
   ],
   "source": [
    "# This code trains models using a range of training set sizes and plots the train and test accuracy.\n",
    "\n",
    "# Here's the model we're going to evaluate\n",
    "rf_clf_v1_lc = ensemble.RandomForestClassifier( # http://scikit-learn.org/stable/modules/generated/sklearn.ensemble.RandomForestClassifier.html\n",
    "    n_estimators=8, # How many trees? More is better, but slower.\n",
    "    n_jobs=-1\n",
    ")\n",
    "\n",
    "# This function trains multiple models, 3 for each train size, and returns train and test score.\n",
    "train_sizes, train_scores, test_scores = model_selection.learning_curve(\n",
    "    rf_clf_v1_lc,\n",
    "    trec_TRAIN_df[features],\n",
    "    trec_TRAIN_df['label'],\n",
    "    cv=3,\n",
    "    train_sizes=[100, 200, 500, 1000, 2000, 5000, 10000, 20000]\n",
    ")\n",
    "\n",
    "# We average together scores from the 3 runs at each size\n",
    "train_scores_mean = 100*train_scores.mean(axis=1)\n",
    "train_scores_std = 100*train_scores.std(axis=1)\n",
    "test_scores_mean = 100*test_scores.mean(axis=1)\n",
    "test_scores_std = 100*test_scores.std(axis=1)\n",
    "\n",
    "# Finally, let's plot the results\n",
    "matplotlib.pyplot.figure()\n",
    "matplotlib.pyplot.title('Train and Test Accurcy by Training Examples', y=1.02)\n",
    "matplotlib.pyplot.xlabel('Training Examples')\n",
    "matplotlib.pyplot.ylabel('Accuracy (%)')\n",
    "matplotlib.pyplot.grid()\n",
    "matplotlib.pyplot.fill_between(train_sizes, train_scores_mean - train_scores_std,\n",
    "                     train_scores_mean + train_scores_std, alpha=0.1,\n",
    "                     color=\"r\")\n",
    "matplotlib.pyplot.fill_between(train_sizes, test_scores_mean - test_scores_std,\n",
    "                     test_scores_mean + test_scores_std, alpha=0.1, color=\"g\")\n",
    "matplotlib.pyplot.plot(train_sizes, train_scores_mean, 'o-', color=\"r\",\n",
    "             label=\"Training score\")\n",
    "matplotlib.pyplot.plot(train_sizes, test_scores_mean, 'o-', color=\"g\",\n",
    "             label=\"Test score\")\n",
    "_ = matplotlib.pyplot.legend(loc=\"best\")"
   ]
  },
  {
   "cell_type": "markdown",
   "metadata": {},
   "source": [
    "### Model version 2: learn from version 1"
   ]
  },
  {
   "cell_type": "markdown",
   "metadata": {},
   "source": [
    "What does model v1 miss?"
   ]
  },
  {
   "cell_type": "code",
   "execution_count": 60,
   "metadata": {
    "collapsed": false
   },
   "outputs": [
    {
     "data": {
      "text/html": [
       "<div>\n",
       "<table border=\"1\" class=\"dataframe\">\n",
       "  <thead>\n",
       "    <tr style=\"text-align: right;\">\n",
       "      <th></th>\n",
       "      <th>subject</th>\n",
       "      <th>label</th>\n",
       "    </tr>\n",
       "  </thead>\n",
       "  <tbody>\n",
       "    <tr>\n",
       "      <th>82332</th>\n",
       "      <td>RE</td>\n",
       "      <td>spam</td>\n",
       "    </tr>\n",
       "    <tr>\n",
       "      <th>69596</th>\n",
       "      <td>Outstanding business</td>\n",
       "      <td>spam</td>\n",
       "    </tr>\n",
       "    <tr>\n",
       "      <th>82197</th>\n",
       "      <td>You launched a website but no one visits it?</td>\n",
       "      <td>spam</td>\n",
       "    </tr>\n",
       "    <tr>\n",
       "      <th>25478</th>\n",
       "      <td>RE: Logon</td>\n",
       "      <td>ham</td>\n",
       "    </tr>\n",
       "    <tr>\n",
       "      <th>91360</th>\n",
       "      <td>裝-機,升-級,一套軟體輕易搞定pendant</td>\n",
       "      <td>spam</td>\n",
       "    </tr>\n",
       "    <tr>\n",
       "      <th>65513</th>\n",
       "      <td>Liquidation Values</td>\n",
       "      <td>ham</td>\n",
       "    </tr>\n",
       "    <tr>\n",
       "      <th>42002</th>\n",
       "      <td>Pope</td>\n",
       "      <td>ham</td>\n",
       "    </tr>\n",
       "    <tr>\n",
       "      <th>8147</th>\n",
       "      <td>Here you go.  4/29/01</td>\n",
       "      <td>ham</td>\n",
       "    </tr>\n",
       "    <tr>\n",
       "      <th>36497</th>\n",
       "      <td>Re: /52-24/Phharmacy</td>\n",
       "      <td>spam</td>\n",
       "    </tr>\n",
       "    <tr>\n",
       "      <th>71363</th>\n",
       "      <td>Sasser Standard - Analysis on Chronic Pa|n In ...</td>\n",
       "      <td>spam</td>\n",
       "    </tr>\n",
       "    <tr>\n",
       "      <th>70017</th>\n",
       "      <td>Pharjmacy for you</td>\n",
       "      <td>spam</td>\n",
       "    </tr>\n",
       "    <tr>\n",
       "      <th>49003</th>\n",
       "      <td>Re: CoolPharrmacy</td>\n",
       "      <td>spam</td>\n",
       "    </tr>\n",
       "    <tr>\n",
       "      <th>67157</th>\n",
       "      <td>RE: centana</td>\n",
       "      <td>ham</td>\n",
       "    </tr>\n",
       "    <tr>\n",
       "      <th>61992</th>\n",
       "      <td>Re: Card</td>\n",
       "      <td>ham</td>\n",
       "    </tr>\n",
       "    <tr>\n",
       "      <th>35340</th>\n",
       "      <td>Ace Rx</td>\n",
       "      <td>spam</td>\n",
       "    </tr>\n",
       "    <tr>\n",
       "      <th>18977</th>\n",
       "      <td>Jh the latest operation system and affordable ...</td>\n",
       "      <td>spam</td>\n",
       "    </tr>\n",
       "    <tr>\n",
       "      <th>6650</th>\n",
       "      <td>MDAS-Online Enhancements Q&amp;A Update</td>\n",
       "      <td>ham</td>\n",
       "    </tr>\n",
       "    <tr>\n",
       "      <th>36031</th>\n",
       "      <td>Amerada Hess and Carolina Power &amp; Light Update</td>\n",
       "      <td>ham</td>\n",
       "    </tr>\n",
       "    <tr>\n",
       "      <th>77003</th>\n",
       "      <td>GLO</td>\n",
       "      <td>ham</td>\n",
       "    </tr>\n",
       "    <tr>\n",
       "      <th>71804</th>\n",
       "      <td>Greg Swedonsky (sp?)</td>\n",
       "      <td>ham</td>\n",
       "    </tr>\n",
       "    <tr>\n",
       "      <th>37726</th>\n",
       "      <td>HYDA +3</td>\n",
       "      <td>ham</td>\n",
       "    </tr>\n",
       "    <tr>\n",
       "      <th>67080</th>\n",
       "      <td>minutes...</td>\n",
       "      <td>ham</td>\n",
       "    </tr>\n",
       "    <tr>\n",
       "      <th>49394</th>\n",
       "      <td>Fwd: TR: jiste ine pitite</td>\n",
       "      <td>ham</td>\n",
       "    </tr>\n",
       "    <tr>\n",
       "      <th>81617</th>\n",
       "      <td>Small Pen-is? gf</td>\n",
       "      <td>spam</td>\n",
       "    </tr>\n",
       "    <tr>\n",
       "      <th>47253</th>\n",
       "      <td>HOW ARE YOU?</td>\n",
       "      <td>spam</td>\n",
       "    </tr>\n",
       "    <tr>\n",
       "      <th>76717</th>\n",
       "      <td>This Trade is On The M0ve</td>\n",
       "      <td>spam</td>\n",
       "    </tr>\n",
       "    <tr>\n",
       "      <th>21598</th>\n",
       "      <td>re:[5] Трудовые отношения с иностранцами</td>\n",
       "      <td>spam</td>\n",
       "    </tr>\n",
       "    <tr>\n",
       "      <th>19795</th>\n",
       "      <td>RE: ENA IT</td>\n",
       "      <td>ham</td>\n",
       "    </tr>\n",
       "    <tr>\n",
       "      <th>37071</th>\n",
       "      <td>Thank You!</td>\n",
       "      <td>ham</td>\n",
       "    </tr>\n",
       "    <tr>\n",
       "      <th>20000</th>\n",
       "      <td>Russian NDAs</td>\n",
       "      <td>ham</td>\n",
       "    </tr>\n",
       "  </tbody>\n",
       "</table>\n",
       "</div>"
      ],
      "text/plain": [
       "                                                 subject label\n",
       "82332                                                 RE  spam\n",
       "69596                               Outstanding business  spam\n",
       "82197       You launched a website but no one visits it?  spam\n",
       "25478                                          RE: Logon   ham\n",
       "91360                            裝-機,升-級,一套軟體輕易搞定pendant  spam\n",
       "65513                                 Liquidation Values   ham\n",
       "42002                                               Pope   ham\n",
       "8147                               Here you go.  4/29/01   ham\n",
       "36497                               Re: /52-24/Phharmacy  spam\n",
       "71363  Sasser Standard - Analysis on Chronic Pa|n In ...  spam\n",
       "70017                                  Pharjmacy for you  spam\n",
       "49003                                  Re: CoolPharrmacy  spam\n",
       "67157                                        RE: centana   ham\n",
       "61992                                           Re: Card   ham\n",
       "35340                                             Ace Rx  spam\n",
       "18977  Jh the latest operation system and affordable ...  spam\n",
       "6650                 MDAS-Online Enhancements Q&A Update   ham\n",
       "36031     Amerada Hess and Carolina Power & Light Update   ham\n",
       "77003                                                GLO   ham\n",
       "71804                               Greg Swedonsky (sp?)   ham\n",
       "37726                                            HYDA +3   ham\n",
       "67080                                         minutes...   ham\n",
       "49394                          Fwd: TR: jiste ine pitite   ham\n",
       "81617                                   Small Pen-is? gf  spam\n",
       "47253                                       HOW ARE YOU?  spam\n",
       "76717                          This Trade is On The M0ve  spam\n",
       "21598           re:[5] Трудовые отношения с иностранцами  spam\n",
       "19795                                         RE: ENA IT   ham\n",
       "37071                                         Thank You!   ham\n",
       "20000                                       Russian NDAs   ham"
      ]
     },
     "execution_count": 60,
     "metadata": {},
     "output_type": "execute_result"
    }
   ],
   "source": [
    "trec_TRAIN_df[trec_TRAIN_df['label']!=rf_v1_predictions_train][['subject', 'label']].sample(30)"
   ]
  },
  {
   "cell_type": "code",
   "execution_count": 61,
   "metadata": {
    "collapsed": false
   },
   "outputs": [],
   "source": [
    "def add_features_v2(df):\n",
    "    df['feature_ALL_CAPS'] = (df['subject'] == df['subject'].str.upper()).astype(int)\n",
    "    df['feature_all_lower'] = (df['subject'] == df['subject'].str.lower()).astype(int)\n",
    "    df['feature_all_ascii_chars'] = df['subject'].map(lambda s: all(ord(c) < 128 for c in s)).astype(int)\n",
    "    df['feature_$'] = df['subject'].map(lambda x: '$' in x).astype(int)\n",
    "    df['feature_@'] = df['subject'].map(lambda x: '@' in x).astype(int)\n",
    "    df['feature_0'] = df['subject'].map(lambda x: '0' in x).astype(int)\n",
    "    df['feature_:)'] = df['subject'].map(lambda x: ':)' in x).astype(int)\n",
    "    df['feature_memy'] = df['subject'].str.lower().map(lambda x: 'me' in x or 'my' in x).astype(int)\n",
    "    df['feature_re'] = df['subject'].str.lower().map(lambda s: s.startswith('re:')).astype(int)\n",
    "    df['feature_fwd'] = df['subject'].str.lower().map(lambda s: s.startswith('fw:') or s.startswith('fwd:')).astype(int)\n",
    "\n",
    "add_features_v2(trec_TRAIN_df)\n",
    "add_features_v2(trec_TEST_df)"
   ]
  },
  {
   "cell_type": "code",
   "execution_count": 62,
   "metadata": {
    "collapsed": false
   },
   "outputs": [
    {
     "data": {
      "text/html": [
       "<div>\n",
       "<table border=\"1\" class=\"dataframe\">\n",
       "  <thead>\n",
       "    <tr style=\"text-align: right;\">\n",
       "      <th>label</th>\n",
       "      <th>ham</th>\n",
       "      <th>spam</th>\n",
       "    </tr>\n",
       "    <tr>\n",
       "      <th>feature_all_ascii_chars</th>\n",
       "      <th></th>\n",
       "      <th></th>\n",
       "    </tr>\n",
       "  </thead>\n",
       "  <tbody>\n",
       "    <tr>\n",
       "      <th>0</th>\n",
       "      <td>17</td>\n",
       "      <td>10973</td>\n",
       "    </tr>\n",
       "    <tr>\n",
       "      <th>1</th>\n",
       "      <td>29833</td>\n",
       "      <td>29969</td>\n",
       "    </tr>\n",
       "  </tbody>\n",
       "</table>\n",
       "</div>"
      ],
      "text/plain": [
       "label                      ham   spam\n",
       "feature_all_ascii_chars              \n",
       "0                           17  10973\n",
       "1                        29833  29969"
      ]
     },
     "execution_count": 62,
     "metadata": {},
     "output_type": "execute_result"
    }
   ],
   "source": [
    "pd.crosstab(trec_TRAIN_df['feature_all_ascii_chars'], trec_TRAIN_df['label'])"
   ]
  },
  {
   "cell_type": "code",
   "execution_count": 63,
   "metadata": {
    "collapsed": false
   },
   "outputs": [
    {
     "data": {
      "text/html": [
       "<div>\n",
       "<table border=\"1\" class=\"dataframe\">\n",
       "  <thead>\n",
       "    <tr style=\"text-align: right;\">\n",
       "      <th>label</th>\n",
       "      <th>ham</th>\n",
       "      <th>spam</th>\n",
       "    </tr>\n",
       "    <tr>\n",
       "      <th>feature_fwd</th>\n",
       "      <th></th>\n",
       "      <th></th>\n",
       "    </tr>\n",
       "  </thead>\n",
       "  <tbody>\n",
       "    <tr>\n",
       "      <th>0</th>\n",
       "      <td>25726</td>\n",
       "      <td>40606</td>\n",
       "    </tr>\n",
       "    <tr>\n",
       "      <th>1</th>\n",
       "      <td>4124</td>\n",
       "      <td>336</td>\n",
       "    </tr>\n",
       "  </tbody>\n",
       "</table>\n",
       "</div>"
      ],
      "text/plain": [
       "label          ham   spam\n",
       "feature_fwd              \n",
       "0            25726  40606\n",
       "1             4124    336"
      ]
     },
     "execution_count": 63,
     "metadata": {},
     "output_type": "execute_result"
    }
   ],
   "source": [
    "pd.crosstab(trec_TRAIN_df['feature_fwd'], trec_TRAIN_df['label'])"
   ]
  },
  {
   "cell_type": "code",
   "execution_count": 64,
   "metadata": {
    "collapsed": false
   },
   "outputs": [
    {
     "name": "stdout",
     "output_type": "stream",
     "text": [
      "Random Forest v2 TRAIN accuracy is: 94.92%\n",
      "Random Forest v2 TEST accuracy is: 91.56%\n"
     ]
    }
   ],
   "source": [
    "# Our features have changed, so let's get the new set of names\n",
    "features = [col for col in trec_TRAIN_df if col.startswith('feature')]\n",
    "\n",
    "# Create a new classifier\n",
    "rf_clf_v2 = ensemble.RandomForestClassifier( # http://scikit-learn.org/stable/modules/generated/sklearn.ensemble.RandomForestClassifier.html\n",
    "    n_estimators=32, # How many trees? More is better, but slower.\n",
    "    n_jobs=-1\n",
    ")\n",
    "\n",
    "# Fit our training data\n",
    "rf_clf_v2.fit(trec_TRAIN_df[features], trec_TRAIN_df['label'])\n",
    "\n",
    "# Make predictions on train and test\n",
    "rf_v2_predictions_train = rf_clf_v2.predict(trec_TRAIN_df[features])\n",
    "rf_v2_predictions_test = rf_clf_v2.predict(trec_TEST_df[features])\n",
    "\n",
    "# Evaluate performance\n",
    "rf_v2_acc_train = metrics.accuracy_score(trec_TRAIN_df['label'], rf_v2_predictions_train)\n",
    "rf_v2_acc_test = metrics.accuracy_score(trec_TEST_df['label'], rf_v2_predictions_test)\n",
    "\n",
    "# Print results\n",
    "print('Random Forest v2 TRAIN accuracy is: %.2f%%' % (rf_v2_acc_train*100))\n",
    "print('Random Forest v2 TEST accuracy is: %.2f%%' % (rf_v2_acc_test*100))"
   ]
  },
  {
   "cell_type": "markdown",
   "metadata": {},
   "source": [
    "### Model v3: ml can utilize very basic features"
   ]
  },
  {
   "cell_type": "code",
   "execution_count": 65,
   "metadata": {
    "collapsed": false
   },
   "outputs": [],
   "source": [
    "def add_features_v3(df):\n",
    "    \"\"\"A bunch of features that aren't particularly human-friendly.\"\"\"\n",
    "    df['feature_len'] = df['subject'].map(len)\n",
    "    df['feature_words'] = df['subject'].map(lambda x: len(x.split()))\n",
    "    df['feature_chars_per_word'] = (df['feature_len'] / df['feature_words']).fillna(0.)\n",
    "    df['feature_digits'] = df['subject'].map(lambda x: sum(c.isdigit() for c in x))\n",
    "    df['feature_punc'] = df['subject'].map(lambda s: sum([1 for x in s if x in set('!\"#$%&\\'()*+,-./:;<=>?@[\\\\]^_`{|}~')]))\n",
    "    \n",
    "add_features_v3(trec_TRAIN_df)\n",
    "add_features_v3(trec_TEST_df)"
   ]
  },
  {
   "cell_type": "code",
   "execution_count": 66,
   "metadata": {
    "collapsed": false
   },
   "outputs": [
    {
     "name": "stdout",
     "output_type": "stream",
     "text": [
      "Random Forest v3 TRAIN accuracy is: 99.16%\n",
      "Random Forest v3 TEST accuracy is: 94.16%\n"
     ]
    }
   ],
   "source": [
    "# Our features have changed, so let's get the new set of names\n",
    "features = [col for col in trec_TRAIN_df if col.startswith('feature')]\n",
    "\n",
    "# Create a new classifier\n",
    "rf_clf_v3 = ensemble.RandomForestClassifier( # http://scikit-learn.org/stable/modules/generated/sklearn.ensemble.RandomForestClassifier.html\n",
    "    n_estimators=32, # How many trees? More is better, but slower.\n",
    "    n_jobs=-1\n",
    ")\n",
    "\n",
    "# Fit our training data\n",
    "rf_clf_v3.fit(trec_TRAIN_df[features], trec_TRAIN_df['label'])\n",
    "\n",
    "# Make predictions on train and test\n",
    "rf_v3_predictions_train = rf_clf_v3.predict(trec_TRAIN_df[features])\n",
    "rf_v3_predictions_test = rf_clf_v3.predict(trec_TEST_df[features])\n",
    "\n",
    "# Evaluate performance\n",
    "rf_v3_acc_train = metrics.accuracy_score(trec_TRAIN_df['label'], rf_v3_predictions_train)\n",
    "rf_v3_acc_test = metrics.accuracy_score(trec_TEST_df['label'], rf_v3_predictions_test)\n",
    "\n",
    "# Print results\n",
    "print('Random Forest v3 TRAIN accuracy is: %.2f%%' % (rf_v3_acc_train*100))\n",
    "print('Random Forest v3 TEST accuracy is: %.2f%%' % (rf_v3_acc_test*100))"
   ]
  },
  {
   "cell_type": "code",
   "execution_count": 67,
   "metadata": {
    "collapsed": false
   },
   "outputs": [
    {
     "data": {
      "text/html": [
       "<div>\n",
       "<table border=\"1\" class=\"dataframe\">\n",
       "  <thead>\n",
       "    <tr style=\"text-align: right;\">\n",
       "      <th></th>\n",
       "      <th>subject</th>\n",
       "      <th>label</th>\n",
       "    </tr>\n",
       "  </thead>\n",
       "  <tbody>\n",
       "    <tr>\n",
       "      <th>50185</th>\n",
       "      <td>You know, I've been wondering....</td>\n",
       "      <td>ham</td>\n",
       "    </tr>\n",
       "    <tr>\n",
       "      <th>53720</th>\n",
       "      <td>You can go</td>\n",
       "      <td>spam</td>\n",
       "    </tr>\n",
       "    <tr>\n",
       "      <th>71720</th>\n",
       "      <td>check this out</td>\n",
       "      <td>spam</td>\n",
       "    </tr>\n",
       "    <tr>\n",
       "      <th>41390</th>\n",
       "      <td>EPSA Draft Comments on TRANSLink ITC Proposal</td>\n",
       "      <td>ham</td>\n",
       "    </tr>\n",
       "    <tr>\n",
       "      <th>21380</th>\n",
       "      <td>Julia Travel</td>\n",
       "      <td>ham</td>\n",
       "    </tr>\n",
       "    <tr>\n",
       "      <th>54370</th>\n",
       "      <td>Kermit to Beaver</td>\n",
       "      <td>ham</td>\n",
       "    </tr>\n",
       "    <tr>\n",
       "      <th>23283</th>\n",
       "      <td>Another Ga-ITS Prospect</td>\n",
       "      <td>ham</td>\n",
       "    </tr>\n",
       "    <tr>\n",
       "      <th>70614</th>\n",
       "      <td>FERC 101/102: March 4-5  Chicago, Ill</td>\n",
       "      <td>spam</td>\n",
       "    </tr>\n",
       "    <tr>\n",
       "      <th>22480</th>\n",
       "      <td>Korea Drama Poster Free(5pcs)</td>\n",
       "      <td>spam</td>\n",
       "    </tr>\n",
       "    <tr>\n",
       "      <th>86241</th>\n",
       "      <td>hello</td>\n",
       "      <td>spam</td>\n",
       "    </tr>\n",
       "    <tr>\n",
       "      <th>79070</th>\n",
       "      <td>dude</td>\n",
       "      <td>ham</td>\n",
       "    </tr>\n",
       "    <tr>\n",
       "      <th>31213</th>\n",
       "      <td>UST Earnings</td>\n",
       "      <td>ham</td>\n",
       "    </tr>\n",
       "    <tr>\n",
       "      <th>86571</th>\n",
       "      <td>Hey, , where were you?</td>\n",
       "      <td>spam</td>\n",
       "    </tr>\n",
       "    <tr>\n",
       "      <th>28652</th>\n",
       "      <td>Update:  TransCanada --fyi, Upcoming Name Change</td>\n",
       "      <td>ham</td>\n",
       "    </tr>\n",
       "    <tr>\n",
       "      <th>71566</th>\n",
       "      <td>Recent change in your personal information</td>\n",
       "      <td>spam</td>\n",
       "    </tr>\n",
       "    <tr>\n",
       "      <th>33729</th>\n",
       "      <td>HETCO NDA - revised by HETCO</td>\n",
       "      <td>ham</td>\n",
       "    </tr>\n",
       "    <tr>\n",
       "      <th>17636</th>\n",
       "      <td>Need prescripiton drvgs?</td>\n",
       "      <td>spam</td>\n",
       "    </tr>\n",
       "    <tr>\n",
       "      <th>62</th>\n",
       "      <td>Save the Date</td>\n",
       "      <td>ham</td>\n",
       "    </tr>\n",
       "    <tr>\n",
       "      <th>33443</th>\n",
       "      <td>Paul Hennemeyer</td>\n",
       "      <td>ham</td>\n",
       "    </tr>\n",
       "    <tr>\n",
       "      <th>83963</th>\n",
       "      <td>December Futures Expiration</td>\n",
       "      <td>ham</td>\n",
       "    </tr>\n",
       "    <tr>\n",
       "      <th>87048</th>\n",
       "      <td>Lolita sex action pics</td>\n",
       "      <td>spam</td>\n",
       "    </tr>\n",
       "    <tr>\n",
       "      <th>13408</th>\n",
       "      <td>My Message,Reply Me or Call 00229 56 71 51.</td>\n",
       "      <td>spam</td>\n",
       "    </tr>\n",
       "    <tr>\n",
       "      <th>55037</th>\n",
       "      <td>Nov PMA Log (FT TX and FT Cent)</td>\n",
       "      <td>ham</td>\n",
       "    </tr>\n",
       "    <tr>\n",
       "      <th>52521</th>\n",
       "      <td>Helpful</td>\n",
       "      <td>spam</td>\n",
       "    </tr>\n",
       "    <tr>\n",
       "      <th>41511</th>\n",
       "      <td>David Foti/Law Manager Search</td>\n",
       "      <td>ham</td>\n",
       "    </tr>\n",
       "    <tr>\n",
       "      <th>45636</th>\n",
       "      <td>Independent Commentary - NewsGurus Magazine - ...</td>\n",
       "      <td>ham</td>\n",
       "    </tr>\n",
       "    <tr>\n",
       "      <th>19128</th>\n",
       "      <td>Canada's air force and navy</td>\n",
       "      <td>ham</td>\n",
       "    </tr>\n",
       "    <tr>\n",
       "      <th>33385</th>\n",
       "      <td>w&amp;t confirmations Nov 01</td>\n",
       "      <td>ham</td>\n",
       "    </tr>\n",
       "    <tr>\n",
       "      <th>26712</th>\n",
       "      <td>KC out of office from noon today</td>\n",
       "      <td>ham</td>\n",
       "    </tr>\n",
       "    <tr>\n",
       "      <th>29718</th>\n",
       "      <td>Commissioner Wood Looks at Retroactive Charges...</td>\n",
       "      <td>ham</td>\n",
       "    </tr>\n",
       "  </tbody>\n",
       "</table>\n",
       "</div>"
      ],
      "text/plain": [
       "                                                 subject label\n",
       "50185                  You know, I've been wondering....   ham\n",
       "53720                                         You can go  spam\n",
       "71720                                     check this out  spam\n",
       "41390      EPSA Draft Comments on TRANSLink ITC Proposal   ham\n",
       "21380                                       Julia Travel   ham\n",
       "54370                                   Kermit to Beaver   ham\n",
       "23283                            Another Ga-ITS Prospect   ham\n",
       "70614              FERC 101/102: March 4-5  Chicago, Ill  spam\n",
       "22480                      Korea Drama Poster Free(5pcs)  spam\n",
       "86241                                              hello  spam\n",
       "79070                                               dude   ham\n",
       "31213                                       UST Earnings   ham\n",
       "86571                             Hey, , where were you?  spam\n",
       "28652   Update:  TransCanada --fyi, Upcoming Name Change   ham\n",
       "71566         Recent change in your personal information  spam\n",
       "33729                       HETCO NDA - revised by HETCO   ham\n",
       "17636                           Need prescripiton drvgs?  spam\n",
       "62                                         Save the Date   ham\n",
       "33443                                    Paul Hennemeyer   ham\n",
       "83963                        December Futures Expiration   ham\n",
       "87048                             Lolita sex action pics  spam\n",
       "13408        My Message,Reply Me or Call 00229 56 71 51.  spam\n",
       "55037                    Nov PMA Log (FT TX and FT Cent)   ham\n",
       "52521                                           Helpful   spam\n",
       "41511                      David Foti/Law Manager Search   ham\n",
       "45636  Independent Commentary - NewsGurus Magazine - ...   ham\n",
       "19128                        Canada's air force and navy   ham\n",
       "33385                           w&t confirmations Nov 01   ham\n",
       "26712                   KC out of office from noon today   ham\n",
       "29718  Commissioner Wood Looks at Retroactive Charges...   ham"
      ]
     },
     "execution_count": 67,
     "metadata": {},
     "output_type": "execute_result"
    }
   ],
   "source": [
    "trec_TEST_df[trec_TEST_df['label']!=rf_v3_predictions_test][['subject', 'label']].sample(30)"
   ]
  },
  {
   "cell_type": "markdown",
   "metadata": {},
   "source": [
    "Let's see how we did today:"
   ]
  },
  {
   "cell_type": "code",
   "execution_count": 68,
   "metadata": {
    "collapsed": false
   },
   "outputs": [
    {
     "data": {
      "text/html": [
       "<div>\n",
       "<table border=\"1\" class=\"dataframe\">\n",
       "  <thead>\n",
       "    <tr style=\"text-align: right;\">\n",
       "      <th></th>\n",
       "      <th>Model</th>\n",
       "      <th>Test Accuracy</th>\n",
       "      <th>Train Accuracy</th>\n",
       "    </tr>\n",
       "  </thead>\n",
       "  <tbody>\n",
       "    <tr>\n",
       "      <th>0</th>\n",
       "      <td>Always Spam</td>\n",
       "      <td>58.664331</td>\n",
       "      <td>57.834219</td>\n",
       "    </tr>\n",
       "    <tr>\n",
       "      <th>1</th>\n",
       "      <td>Simple v1</td>\n",
       "      <td>60.647494</td>\n",
       "      <td>60.628320</td>\n",
       "    </tr>\n",
       "    <tr>\n",
       "      <th>2</th>\n",
       "      <td>Simple v2</td>\n",
       "      <td>81.998983</td>\n",
       "      <td>81.780427</td>\n",
       "    </tr>\n",
       "    <tr>\n",
       "      <th>3</th>\n",
       "      <td>RF v1</td>\n",
       "      <td>87.496469</td>\n",
       "      <td>90.401458</td>\n",
       "    </tr>\n",
       "    <tr>\n",
       "      <th>4</th>\n",
       "      <td>RF v2</td>\n",
       "      <td>91.558845</td>\n",
       "      <td>94.916092</td>\n",
       "    </tr>\n",
       "    <tr>\n",
       "      <th>5</th>\n",
       "      <td>RF v3</td>\n",
       "      <td>94.163512</td>\n",
       "      <td>99.155272</td>\n",
       "    </tr>\n",
       "  </tbody>\n",
       "</table>\n",
       "</div>"
      ],
      "text/plain": [
       "         Model  Test Accuracy  Train Accuracy\n",
       "0  Always Spam      58.664331       57.834219\n",
       "1    Simple v1      60.647494       60.628320\n",
       "2    Simple v2      81.998983       81.780427\n",
       "3        RF v1      87.496469       90.401458\n",
       "4        RF v2      91.558845       94.916092\n",
       "5        RF v3      94.163512       99.155272"
      ]
     },
     "execution_count": 68,
     "metadata": {},
     "output_type": "execute_result"
    }
   ],
   "source": [
    "results_summary_df = pd.DataFrame({\n",
    "    'Model': ['Always Spam', 'Simple v1', 'Simple v2', 'RF v1', 'RF v2', 'RF v3'],\n",
    "    'Train Accuracy': [100*always_spam_acc_train, 100*simple_acc_train, 100*simple_v2_acc_train, 100*rf_v1_acc_train, 100*rf_v2_acc_train, 100*rf_v3_acc_train],\n",
    "    'Test Accuracy': [100*always_spam_acc_test, 100*simple_acc_test, 100*simple_v2_acc_test, 100*rf_v1_acc_test, 100*rf_v2_acc_test, 100*rf_v3_acc_test]\n",
    "})\n",
    "results_summary_df"
   ]
  },
  {
   "cell_type": "code",
   "execution_count": 69,
   "metadata": {
    "collapsed": false
   },
   "outputs": [
    {
     "data": {
      "image/png": "[encoded data removed]",
      "text/plain": [
       "<matplotlib.figure.Figure at 0x7fe6c56532b0>"
      ]
     },
     "metadata": {},
     "output_type": "display_data"
    }
   ],
   "source": [
    "ax = results_summary_df.plot.bar('Model', ['Train Accuracy', 'Test Accuracy'])\n",
    "\n",
    "_ = ax.set_ylabel('Accuracy (%)')"
   ]
  },
  {
   "cell_type": "markdown",
   "metadata": {},
   "source": [
    "We started with a model that's barely better than guessing, and ended by building a machine learning model with greater than 90% accuracy. That's not the end, though; it is possible to acheive even better performance with this data, and I encourage everyone to start experimenting with new and better features as a way to learn."
   ]
  },
  {
   "cell_type": "markdown",
   "metadata": {},
   "source": [
    "# Learn More\n",
    "I hope this intro has whetted your appetite. There are _tons_ of free resources online to learn more about these topics. Here are some of my favoriate."
   ]
  },
  {
   "cell_type": "markdown",
   "metadata": {},
   "source": [
    "* As mentioned previously, [Learn Python the Hard Way](https://learnpythonthehardway.org/book/) is a great resource for learning Python.\n",
    "* [A visual introduction to machine learning](http://www.r2d3.us/visual-intro-to-machine-learning-part-1/) is a fun way to build a little more intuition around basic ML concepts.\n",
    "* Check out these [tutorials](http://pandas.pydata.org/pandas-docs/stable/tutorials.html) to learn more about notebooks and pandas.\n",
    "* Once you have some familiarity with the basics of Python and ML, [scikit-learn's tutorials](http://scikit-learn.org/stable/tutorial/index.html) are good for building hands-on ML knowledge.\n",
    "* In this training, we've pretty much exclusively used \"error\" and \"accuracy\" to evaluate machine learning models. That's not always the best thing to do. Read [Why accuracy alone is a bad measure for classification tasks, and what we can do about it](https://tryolabs.com/blog/2013/03/25/why-accuracy-alone-bad-measure-classification-tasks-and-what-we-can-do-about-it/) to learn why.\n",
    "* Building intuition around bias and variance is an important fundamental skill. Start with Scott Fortmann-Roe's essay [Understanding the Bias-Variance Tradeoff](http://scott.fortmann-roe.com/docs/BiasVariance.html).\n",
    "* I also highly recommend reading this paper, [A Few Useful Things to Know about Machine Learning](https://homes.cs.washington.edu/~pedrod/papers/cacm12.pdf), when you are ready to start using ML on your own.\n",
    "* Finally, if you prefer a more formal classroom setting, [Andrew Ng's Coursera course on machine learning](https://www.coursera.org/learn/machine-learning) is a fantastic place to start. It's free!"
   ]
  },
  {
   "cell_type": "markdown",
   "metadata": {},
   "source": [
    "# Extra Credit"
   ]
  },
  {
   "cell_type": "code",
   "execution_count": null,
   "metadata": {
    "collapsed": false
   },
   "outputs": [],
   "source": [
    "# Let's get more detailed information about the performance of our best model.\n",
    "# Would you use it in production? Probably not.\n",
    "print(metrics.classification_report(\n",
    "    trec_TEST_df['label'], \n",
    "    rf_v3_predictions_test,\n",
    "    digits=4\n",
    "))"
   ]
  },
  {
   "cell_type": "code",
   "execution_count": null,
   "metadata": {
    "collapsed": false
   },
   "outputs": [],
   "source": [
    "# What if we could make sure the classifier only said 'spam' if it was particularly sure?\n",
    "# We can do that by adjusting the probability threshold.\n",
    "\n",
    "def probs_to_class(probs, threshold=0.5):\n",
    "    # Converts raw spam probability to a label\n",
    "    if probs > threshold:\n",
    "        return 'spam'\n",
    "    else:\n",
    "        return 'ham'\n",
    "\n",
    "pd.Series(rf_clf_v3.predict_proba(trec_TEST_df.head()[features])[:, 1]).map(probs_to_class)"
   ]
  },
  {
   "cell_type": "code",
   "execution_count": null,
   "metadata": {
    "collapsed": false
   },
   "outputs": [],
   "source": [
    "# By default, the classifier's threshold is 0.5.\n",
    "# That means if the estimated spam probability is greater than 50%, label as spam.\n",
    "print(metrics.classification_report(\n",
    "    trec_TEST_df['label'],\n",
    "    pd.Series(rf_clf_v3.predict_proba(trec_TEST_df[features])[:, 1]).map(\n",
    "        lambda p: probs_to_class(p, 0.5)\n",
    "    ),\n",
    "    digits=4\n",
    "))"
   ]
  },
  {
   "cell_type": "code",
   "execution_count": null,
   "metadata": {
    "collapsed": false
   },
   "outputs": [],
   "source": [
    "# Let's look at the distribution of probabilities in our test set.\n",
    "\n",
    "ax = pd.Series(rf_clf_v3.predict_proba(trec_TEST_df[features])[:, 1]).plot.hist(bins=50, edgecolor='white')"
   ]
  },
  {
   "cell_type": "code",
   "execution_count": null,
   "metadata": {
    "collapsed": false
   },
   "outputs": [],
   "source": [
    "# Choosing a higher threshold gets you precision, but at the cost of recall.\n",
    "print(metrics.classification_report(\n",
    "    trec_TEST_df['label'],\n",
    "    pd.Series(rf_clf_v3.predict_proba(trec_TEST_df[features])[:, 1]).map(\n",
    "        lambda p: probs_to_class(p, 0.97)\n",
    "    ),\n",
    "    digits=3\n",
    "))"
   ]
  },
  {
   "cell_type": "markdown",
   "metadata": {
    "collapsed": true
   },
   "source": [
    "## A note on running a model like this in production"
   ]
  },
  {
   "cell_type": "markdown",
   "metadata": {},
   "source": [
    "With an adjusted threshold, this model is close to being suitable for real-world abuse detection as part of a broader portfolio of abuse detection techniques. However, there are a few things I would do before considering using this model in production:\n",
    "\n",
    "1. Most importantly, the training set needs to be augmented with data from the actual mailstream you will be filtering. Every mailstream is different, and a ML model trained on one source of mail will perform worse, if not poorly, on a different one. The best thing you can do for your model is to gather and label your own training data, rather than relying on what is available from other sources. As a general rule of thumb (which you should test for yourself!), you should try to ensure that non-native data makes up no more than one-third of your training set. That means you need to collect a lot more samples. It takes less time than you would think; most people underestimate the value of simply spending time manually labeling more training samples.\n",
    "\n",
    "2. Many of the features are based on particular words. We know that spammers try to avoid filtering by using variations on key words and phrases. Building features that are a little more flexible (for example, a feature that will catch \"viagra\" and anything within one letter substition of that word) is a good idea. Be careful, though: being too flexible with certain words can cause trouble. For example, \"meds\" and \"beds\" are only one letter apart.\n",
    "\n",
    "3. Use more of the email. To keep things simple, we focused on subject lines, but using just the subject line is a bit like playing with one hand tied behind our backs. The rest of the email header and the email content contain many rich features that will improve your model.\n",
    "\n",
    "If you follow this advice, it is possible to improve performance by at least an order of magnitude, which allows you to either reduce false positive rates while keeping spam detection rates the same, or boost spam detection rates while keeping false positive rates the same, or something in between, depending on how you pick your threshold.\n",
    "\n",
    "Deployment of ML models (i.e., actually running them on a server, not just in the notebook environment), is a big topic. This article, [Deploying a scikit-learn classifier to production](https://loads.pickle.me.uk/2016/04/04/deploying-a-scikit-learn-classifier-to-production/), is a good place to start."
   ]
  }
 ],
 "metadata": {
  "kernelspec": {
   "display_name": "Python 3.6",
   "language": "python",
   "name": "python36"
  },
  "language_info": {
   "codemirror_mode": {
    "name": "ipython",
    "version": 3
   },
   "file_extension": ".py",
   "mimetype": "text/x-python",
   "name": "python",
   "nbconvert_exporter": "python",
   "pygments_lexer": "ipython3",
   "version": "3.6.0"
  }
 },
 "nbformat": 4,
 "nbformat_minor": 2
}
